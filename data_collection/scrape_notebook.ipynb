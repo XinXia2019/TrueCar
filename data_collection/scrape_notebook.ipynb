{
 "cells": [
  {
   "cell_type": "markdown",
   "metadata": {},
   "source": [
    "# This notebook scraped raw data from TrueCar"
   ]
  },
  {
   "cell_type": "markdown",
   "metadata": {},
   "source": [
    "### Scraping data from https://www.truecar.com/"
   ]
  },
  {
   "cell_type": "code",
   "execution_count": 2,
   "metadata": {},
   "outputs": [],
   "source": [
    "import requests\n",
    "import json\n",
    "import pandas as pd\n",
    "\n",
    "def flatten_dict(dd, separator ='_', prefix =''): \n",
    "    return { prefix + separator + k if prefix else k : v \n",
    "             for kk, vv in dd.items() \n",
    "             for k, v in flatten_dict(vv, separator, kk).items() \n",
    "             } if isinstance(dd, dict) else { prefix : dd } "
   ]
  },
  {
   "cell_type": "code",
   "execution_count": 3,
   "metadata": {},
   "outputs": [],
   "source": [
    "url = f\"https://www.truecar.com/abp/api/vehicles/used/listings?new_or_used=u&per_page=30&postal_code=&year_high=2020&year_low=2020&page=1\"\n",
    "res = requests.get(url)\n",
    "json_file = json.loads(res.content)['listings']"
   ]
  },
  {
   "cell_type": "code",
   "execution_count": 4,
   "metadata": {},
   "outputs": [],
   "source": [
    "flattfile= [flatten_dict(file) for file in json_file]"
   ]
  },
  {
   "cell_type": "code",
   "execution_count": 6,
   "metadata": {},
   "outputs": [
    {
     "data": {
      "text/plain": [
       "30"
      ]
     },
     "execution_count": 6,
     "metadata": {},
     "output_type": "execute_result"
    }
   ],
   "source": [
    "len(flattfile)"
   ]
  },
  {
   "cell_type": "code",
   "execution_count": 7,
   "metadata": {},
   "outputs": [
    {
     "data": {
      "text/plain": [
       "{'vehicle_body_style_slug': 'hatchback',\n",
       " 'vehicle_body_style': 'Hatchback',\n",
       " 'vehicle_drive_train': 'FWD',\n",
       " 'vehicle_engine': '1.4L Inline-4 Gas',\n",
       " 'vehicle_fuel_type': 'Gas',\n",
       " 'vehicle_make_id': 55,\n",
       " 'vehicle_make_slug': 'chevrolet',\n",
       " 'vehicle_make': 'Chevrolet',\n",
       " 'vehicle_model_id': 8446,\n",
       " 'vehicle_model_slug': 'spark',\n",
       " 'vehicle_model': 'Spark',\n",
       " 'vehicle_mpg_city': 30,\n",
       " 'vehicle_mpg_combined': 33,\n",
       " 'vehicle_mpg_highway': 38,\n",
       " 'vehicle_style_id': 65120,\n",
       " 'vehicle_style_slug': 'ls-cvt',\n",
       " 'vehicle_style': 'LS CVT',\n",
       " 'vehicle_transmission': 'Automatic',\n",
       " 'vehicle_trim_slug': 'ls',\n",
       " 'vehicle_trim': 'LS CVT',\n",
       " 'vehicle_trim_id': None,\n",
       " 'vehicle_year': 2020,\n",
       " 'vehicle_chrome_trim_id': 405609,\n",
       " 'vehicle_carfax_report_available': True,\n",
       " 'vehicle_enable_discount': 'no',\n",
       " 'vehicle_exterior_color_generic': 'Tan',\n",
       " 'vehicle_exterior_color_rgb': 'E1D8D1',\n",
       " 'vehicle_exterior_color': 'Toasted Marshmallow',\n",
       " 'vehicle_interior_color': 'Jet Black/Jet Black',\n",
       " 'vehicle_list_price': 9992.0,\n",
       " 'vehicle_member_discount': 0.0,\n",
       " 'vehicle_mileage': 1004,\n",
       " 'vehicle_new_or_used': 'USED',\n",
       " 'vehicle_stock_number': '19C707',\n",
       " 'vehicle_vin': 'KL8CB6SA2LC408396',\n",
       " 'vehicle_truecar_make_id': None,\n",
       " 'vehicle_truecar_model_id': None,\n",
       " 'vehicle_doors': None,\n",
       " 'vehicle_newly_listed': None,\n",
       " 'vehicle_days_in_inventory': None,\n",
       " 'vehicle_make_logos': None,\n",
       " 'vehicle_provider_name': None,\n",
       " 'vehicle_request_price': None,\n",
       " 'vehicle_manufacturer_options': [],\n",
       " 'vehicle_bed_length': None,\n",
       " 'vehicle_cab_type': None,\n",
       " 'vehicle_roof_height': None,\n",
       " 'vehicle_multilocation': False,\n",
       " 'vehicle_location': 'Richardson, TX',\n",
       " 'vehicle_price_dropped': False,\n",
       " 'vehicle_certified_pre_owned': None,\n",
       " 'vehicle_sponsored': None,\n",
       " 'vehicle_image': 'https://listings-prod.tcimg.net/listings/3185/96/83/KL8CB6SA2LC408396/HLFPWXBMCIJ37DG65ZXGQKIA7I-318.jpg',\n",
       " 'vehicle_images': ['https://listings-prod.tcimg.net/listings/3185/96/83/KL8CB6SA2LC408396/HLFPWXBMCIJ37DG65ZXGQKIA7I-318.jpg'],\n",
       " 'dealership_id': 3185,\n",
       " 'dealership_name': 'Reliable Chevrolet TX',\n",
       " 'dealership_links_website_link': 'http://www.reliablechev.com/',\n",
       " 'dealership_location_address1': '800 N Central Expressway',\n",
       " 'dealership_location_address2': None,\n",
       " 'dealership_location_postal_code': '75080',\n",
       " 'dealership_location_lat': 32.94195,\n",
       " 'dealership_location_lng': -96.74401,\n",
       " 'dealership_location_city': 'Richardson',\n",
       " 'dealership_location_state': 'TX',\n",
       " 'dealership_location_distance': None,\n",
       " 'pricing_flags_show_list_price_label_pre_lead': False,\n",
       " 'pricing_flags_discount_message_pre_lead': None,\n",
       " 'pricing_flags_show_list_price_post_lead': False,\n",
       " 'pricing_flags_cert_title': 'Offer',\n",
       " 'pricing_flags_member_price_label_post_lead': 'Dealer Price',\n",
       " 'pricing_flags_show_discount_post_lead': False,\n",
       " 'pricing_flags_description': 'no_discounts',\n",
       " 'pricing_flags_show_discount_pre_lead': False,\n",
       " 'pricing_flags_discount_label_pre_lead': None,\n",
       " 'pricing_list_price': 9992,\n",
       " 'pricing_member_discount': None,\n",
       " 'pricing_member_price': 9992,\n",
       " 'pricing_total_fees': 0,\n",
       " 'pricing_other_fees_total': 0,\n",
       " 'pricing_dealer_installed_options_total': 0,\n",
       " 'pricing_total_price': 9992,\n",
       " 'pricing_transparency_pledge': None,\n",
       " 'pricing_list_price_includes_doc_fee': None,\n",
       " 'pricing_dealer_installed_options': [],\n",
       " 'pricing_other_fees': [],\n",
       " 'pricing_documentation_fee': None,\n",
       " 'pricing_tax_rate': None,\n",
       " 'pricing_tax_amount': None,\n",
       " 'pricing_total_taxed_price': None,\n",
       " 'price_curve_great': 11629.54,\n",
       " 'price_curve_good': 12341.55,\n",
       " 'price_curve_min': 8306.81,\n",
       " 'price_curve_max': 15426.94,\n",
       " 'price_curve_avg': 11866.88,\n",
       " 'price_curve_exceptional': 10917.53,\n",
       " 'price_curve_market_difference': 0,\n",
       " 'price_curve_market_difference_display': 0,\n",
       " 'price_curve_market_difference_percent': 0,\n",
       " 'price_curve_market_difference_percent_display': 0,\n",
       " 'price_curve_rating': 'WELL_BELOW_MARKET',\n",
       " 'price_curve_callout_label': 'Well Below Market',\n",
       " 'price_curve_callout_quality': 'WELL_BELOW_MARKET',\n",
       " 'price_curve_callout_quality_index': 0}"
      ]
     },
     "execution_count": 7,
     "metadata": {},
     "output_type": "execute_result"
    }
   ],
   "source": [
    "flattfile[0]"
   ]
  },
  {
   "cell_type": "markdown",
   "metadata": {},
   "source": [
    "### Srape used car data from 1997 to 2020."
   ]
  },
  {
   "cell_type": "code",
   "execution_count": 90,
   "metadata": {},
   "outputs": [],
   "source": [
    "data_year = list(range(1997,2021,1)[::-1])"
   ]
  },
  {
   "cell_type": "code",
   "execution_count": 373,
   "metadata": {},
   "outputs": [],
   "source": [
    "data_page = []\n",
    "for year in data_year:\n",
    "    url = f'https://www.truecar.com/used-cars-for-sale/listings/year-{year}/'\n",
    "    res = requests.get(url)\n",
    "    soup = BeautifulSoup(res.content, \"html.parser\")\n",
    "    page = soup.find_all(class_ = \"page-link\")[-3].get_text()\n",
    "    data_page.append(page)"
   ]
  },
  {
   "cell_type": "code",
   "execution_count": null,
   "metadata": {},
   "outputs": [],
   "source": [
    "#import requests\n",
    "#import json\n",
    "#import csv\n",
    "#import time as time\n",
    "#from bs4 import BeautifulSoup\n",
    "#\n",
    "#def flatten_dict(dd, separator ='_', prefix =''): \n",
    "#    return { prefix + separator + k if prefix else k : v \n",
    "#             for kk, vv in dd.items() \n",
    "#             for k, v in flatten_dict(vv, separator, kk).items() \n",
    "#             } if isinstance(dd, dict) else { prefix : dd } \n",
    "#\n",
    "#\n",
    "#data_year = list(range(1997,2021,1)[::-1])\n",
    "#\n",
    "#data_page = []\n",
    "#print(\"Get page numbers..\")\n",
    "#for year in data_year:\n",
    "#    url = f'https://www.truecar.com/used-cars-for-sale/listings/year-{year}/'\n",
    "#    res = requests.get(url)\n",
    "#    soup = BeautifulSoup(res.content, \"html.parser\")\n",
    "#    page = soup.find_all(class_ = \"page-link\")[-3].get_text()\n",
    "#    data_page.append(page)\n",
    "#\n",
    "#print(\"Start scraping..\")\n",
    "#\n",
    "#data_all =[]\n",
    "#for idx in range(len(data_year)):\n",
    "#    year = data_year[idx]\n",
    "#    total_page = int(data_page[idx])\n",
    "#    \n",
    "#    print(\"-\" * 100)\n",
    "#    print(f\"Year {year}\")\n",
    "#    time_start = time.time()\n",
    "#    \n",
    "#\n",
    "#    for page in range(1,total_page+1,1):\n",
    "#        try:\n",
    "#            url = f\"https://www.truecar.com/abp/api/vehicles/used/listings?new_or_used=u&per_page=30&postal_code=&year_high={year}&year_low={year}&page={page}\"\n",
    "#            res = requests.get(url)\n",
    "#            json_file = json.loads(res.content)['listings']\n",
    "#            \n",
    "#            for file in json_file:\n",
    "#                data_all.append(flatten_dict(file))\n",
    "#                \n",
    "#        except Exception as e:\n",
    "#            print(\"!\"*100)\n",
    "#            print(e)\n",
    "#            print(\"!\"*100)\n",
    "#\n",
    "#    print(f\"Finished in {time.time() - time_start : .2f} seconds\")\n",
    "#    \n",
    "#print(\"Saving to csv file...\")\n",
    "#df = pd.DataFrame(data_all)\n",
    "#df.to_csv(\"true_car_9720.csv\",index = False)\n",
    "#print(\"Done\")"
   ]
  }
 ],
 "metadata": {
  "kernelspec": {
   "display_name": "Python 3",
   "language": "python",
   "name": "python3"
  },
  "language_info": {
   "codemirror_mode": {
    "name": "ipython",
    "version": 3
   },
   "file_extension": ".py",
   "mimetype": "text/x-python",
   "name": "python",
   "nbconvert_exporter": "python",
   "pygments_lexer": "ipython3",
   "version": "3.7.4"
  }
 },
 "nbformat": 4,
 "nbformat_minor": 2
}
