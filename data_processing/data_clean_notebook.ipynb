{
 "cells": [
  {
   "cell_type": "markdown",
   "metadata": {},
   "source": [
    "# This notebook handles missing values, and removes outliers."
   ]
  },
  {
   "cell_type": "markdown",
   "metadata": {},
   "source": [
    "### Scraping data from https://www.truecar.com/"
   ]
  },
  {
   "cell_type": "code",
   "execution_count": 1,
   "metadata": {},
   "outputs": [
    {
     "data": {
      "text/html": [
       "        <script type=\"text/javascript\">\n",
       "        window.PlotlyConfig = {MathJaxConfig: 'local'};\n",
       "        if (window.MathJax) {MathJax.Hub.Config({SVG: {font: \"STIX-Web\"}});}\n",
       "        if (typeof require !== 'undefined') {\n",
       "        require.undef(\"plotly\");\n",
       "        requirejs.config({\n",
       "            paths: {\n",
       "                'plotly': ['https://cdn.plot.ly/plotly-latest.min']\n",
       "            }\n",
       "        });\n",
       "        require(['plotly'], function(Plotly) {\n",
       "            window._Plotly = Plotly;\n",
       "        });\n",
       "        }\n",
       "        </script>\n",
       "        "
      ]
     },
     "metadata": {},
     "output_type": "display_data"
    }
   ],
   "source": [
    "import numpy as np\n",
    "import pandas as pd\n",
    "import seaborn as sns\n",
    "import matplotlib.pyplot as plt\n",
    "from vizi import *\n",
    "pd.set_option('display.max_rows', 500)\n",
    "pd.set_option('display.max_columns', 500)\n",
    "pd.set_option('display.width', 1000)"
   ]
  },
  {
   "cell_type": "code",
   "execution_count": 2,
   "metadata": {},
   "outputs": [
    {
     "name": "stderr",
     "output_type": "stream",
     "text": [
      "/Users/school/anaconda3/lib/python3.7/site-packages/IPython/core/interactiveshell.py:3057: DtypeWarning:\n",
      "\n",
      "Columns (26,50) have mixed types. Specify dtype option on import or set low_memory=False.\n",
      "\n"
     ]
    }
   ],
   "source": [
    "df = pd.read_csv('../data/true_car_9720.csv',dtype={'vehicle_carfax_report_available':'object',\n",
    "                                     'vehicle_multilocation':'object',\n",
    "                                     'vehicle_price_dropped':'object'})"
   ]
  },
  {
   "cell_type": "code",
   "execution_count": 3,
   "metadata": {
    "scrolled": true
   },
   "outputs": [
    {
     "data": {
      "text/plain": [
       "(174954, 105)"
      ]
     },
     "execution_count": 3,
     "metadata": {},
     "output_type": "execute_result"
    }
   ],
   "source": [
    "df.shape"
   ]
  },
  {
   "cell_type": "markdown",
   "metadata": {},
   "source": [
    "### Found 15,457 duplicates."
   ]
  },
  {
   "cell_type": "code",
   "execution_count": 4,
   "metadata": {},
   "outputs": [],
   "source": [
    "df.drop_duplicates(inplace=True)"
   ]
  },
  {
   "cell_type": "code",
   "execution_count": 5,
   "metadata": {},
   "outputs": [
    {
     "data": {
      "text/plain": [
       "(159497, 105)"
      ]
     },
     "execution_count": 5,
     "metadata": {},
     "output_type": "execute_result"
    }
   ],
   "source": [
    "df.shape"
   ]
  },
  {
   "cell_type": "code",
   "execution_count": 6,
   "metadata": {},
   "outputs": [
    {
     "data": {
      "text/plain": [
       "-15457"
      ]
     },
     "execution_count": 6,
     "metadata": {},
     "output_type": "execute_result"
    }
   ],
   "source": [
    "159497 - 174954"
   ]
  },
  {
   "cell_type": "code",
   "execution_count": 7,
   "metadata": {},
   "outputs": [
    {
     "data": {
      "text/html": [
       "<div>\n",
       "<style scoped>\n",
       "    .dataframe tbody tr th:only-of-type {\n",
       "        vertical-align: middle;\n",
       "    }\n",
       "\n",
       "    .dataframe tbody tr th {\n",
       "        vertical-align: top;\n",
       "    }\n",
       "\n",
       "    .dataframe thead th {\n",
       "        text-align: right;\n",
       "    }\n",
       "</style>\n",
       "<table border=\"1\" class=\"dataframe\">\n",
       "  <thead>\n",
       "    <tr style=\"text-align: right;\">\n",
       "      <th></th>\n",
       "      <th>vehicle_body_style_slug</th>\n",
       "      <th>vehicle_body_style</th>\n",
       "      <th>vehicle_drive_train</th>\n",
       "      <th>vehicle_engine</th>\n",
       "      <th>vehicle_fuel_type</th>\n",
       "      <th>vehicle_make_id</th>\n",
       "      <th>vehicle_make_slug</th>\n",
       "      <th>vehicle_make</th>\n",
       "      <th>vehicle_model_id</th>\n",
       "      <th>vehicle_model_slug</th>\n",
       "      <th>vehicle_model</th>\n",
       "      <th>vehicle_mpg_city</th>\n",
       "      <th>vehicle_mpg_combined</th>\n",
       "      <th>vehicle_mpg_highway</th>\n",
       "      <th>vehicle_style_id</th>\n",
       "      <th>vehicle_style_slug</th>\n",
       "      <th>vehicle_style</th>\n",
       "      <th>vehicle_transmission</th>\n",
       "      <th>vehicle_trim_slug</th>\n",
       "      <th>vehicle_trim</th>\n",
       "      <th>vehicle_trim_id</th>\n",
       "      <th>vehicle_year</th>\n",
       "      <th>vehicle_chrome_trim_id</th>\n",
       "      <th>vehicle_carfax_report_available</th>\n",
       "      <th>vehicle_enable_discount</th>\n",
       "      <th>vehicle_exterior_color_generic</th>\n",
       "      <th>vehicle_exterior_color_rgb</th>\n",
       "      <th>vehicle_exterior_color</th>\n",
       "      <th>vehicle_interior_color</th>\n",
       "      <th>vehicle_list_price</th>\n",
       "      <th>vehicle_member_discount</th>\n",
       "      <th>vehicle_mileage</th>\n",
       "      <th>vehicle_new_or_used</th>\n",
       "      <th>vehicle_stock_number</th>\n",
       "      <th>vehicle_vin</th>\n",
       "      <th>vehicle_truecar_make_id</th>\n",
       "      <th>vehicle_truecar_model_id</th>\n",
       "      <th>vehicle_doors</th>\n",
       "      <th>vehicle_newly_listed</th>\n",
       "      <th>vehicle_days_in_inventory</th>\n",
       "      <th>vehicle_make_logos</th>\n",
       "      <th>vehicle_provider_name</th>\n",
       "      <th>vehicle_request_price</th>\n",
       "      <th>vehicle_manufacturer_options</th>\n",
       "      <th>vehicle_bed_length</th>\n",
       "      <th>vehicle_cab_type</th>\n",
       "      <th>vehicle_roof_height</th>\n",
       "      <th>vehicle_multilocation</th>\n",
       "      <th>vehicle_location</th>\n",
       "      <th>vehicle_price_dropped</th>\n",
       "      <th>vehicle_certified_pre_owned</th>\n",
       "      <th>vehicle_sponsored</th>\n",
       "      <th>vehicle_image</th>\n",
       "      <th>vehicle_images</th>\n",
       "      <th>dealership_id</th>\n",
       "      <th>dealership_name</th>\n",
       "      <th>dealership_links_website_link</th>\n",
       "      <th>dealership_location_address1</th>\n",
       "      <th>dealership_location_address2</th>\n",
       "      <th>dealership_location_postal_code</th>\n",
       "      <th>dealership_location_lat</th>\n",
       "      <th>dealership_location_lng</th>\n",
       "      <th>dealership_location_city</th>\n",
       "      <th>dealership_location_state</th>\n",
       "      <th>dealership_location_distance</th>\n",
       "      <th>pricing_flags_show_list_price_label_pre_lead</th>\n",
       "      <th>pricing_flags_discount_message_pre_lead</th>\n",
       "      <th>pricing_flags_show_list_price_post_lead</th>\n",
       "      <th>pricing_flags_cert_title</th>\n",
       "      <th>pricing_flags_member_price_label_post_lead</th>\n",
       "      <th>pricing_flags_show_discount_post_lead</th>\n",
       "      <th>pricing_flags_description</th>\n",
       "      <th>pricing_flags_show_discount_pre_lead</th>\n",
       "      <th>pricing_flags_discount_label_pre_lead</th>\n",
       "      <th>pricing_list_price</th>\n",
       "      <th>pricing_member_discount</th>\n",
       "      <th>pricing_member_price</th>\n",
       "      <th>pricing_total_fees</th>\n",
       "      <th>pricing_other_fees_total</th>\n",
       "      <th>pricing_dealer_installed_options_total</th>\n",
       "      <th>pricing_total_price</th>\n",
       "      <th>pricing_transparency_pledge</th>\n",
       "      <th>pricing_list_price_includes_doc_fee</th>\n",
       "      <th>pricing_dealer_installed_options</th>\n",
       "      <th>pricing_other_fees</th>\n",
       "      <th>pricing_documentation_fee</th>\n",
       "      <th>pricing_tax_rate</th>\n",
       "      <th>pricing_tax_amount</th>\n",
       "      <th>pricing_total_taxed_price</th>\n",
       "      <th>price_curve_great</th>\n",
       "      <th>price_curve_good</th>\n",
       "      <th>price_curve_min</th>\n",
       "      <th>price_curve_max</th>\n",
       "      <th>price_curve_avg</th>\n",
       "      <th>price_curve_exceptional</th>\n",
       "      <th>price_curve_market_difference</th>\n",
       "      <th>price_curve_market_difference_display</th>\n",
       "      <th>price_curve_market_difference_percent</th>\n",
       "      <th>price_curve_market_difference_percent_display</th>\n",
       "      <th>price_curve_rating</th>\n",
       "      <th>price_curve_callout</th>\n",
       "      <th>vehicle_member_price</th>\n",
       "      <th>price_curve_callout_label</th>\n",
       "      <th>price_curve_callout_quality</th>\n",
       "      <th>price_curve_callout_quality_index</th>\n",
       "    </tr>\n",
       "  </thead>\n",
       "  <tbody>\n",
       "    <tr>\n",
       "      <th>0</th>\n",
       "      <td>hatchback</td>\n",
       "      <td>Hatchback</td>\n",
       "      <td>FWD</td>\n",
       "      <td>1.4L Inline-4 Gas</td>\n",
       "      <td>Gas</td>\n",
       "      <td>55</td>\n",
       "      <td>chevrolet</td>\n",
       "      <td>Chevrolet</td>\n",
       "      <td>8446</td>\n",
       "      <td>spark</td>\n",
       "      <td>Spark</td>\n",
       "      <td>30.0</td>\n",
       "      <td>33.0</td>\n",
       "      <td>38.0</td>\n",
       "      <td>65120.0</td>\n",
       "      <td>ls-cvt</td>\n",
       "      <td>LS CVT</td>\n",
       "      <td>Automatic</td>\n",
       "      <td>ls</td>\n",
       "      <td>LS CVT</td>\n",
       "      <td>NaN</td>\n",
       "      <td>2020</td>\n",
       "      <td>405609.0</td>\n",
       "      <td>True</td>\n",
       "      <td>no</td>\n",
       "      <td>Gray</td>\n",
       "      <td>515660</td>\n",
       "      <td>Nightfall Grey</td>\n",
       "      <td>Jet Black/Jet Black</td>\n",
       "      <td>10742.0</td>\n",
       "      <td>0.0</td>\n",
       "      <td>598</td>\n",
       "      <td>USED</td>\n",
       "      <td>19C712</td>\n",
       "      <td>KL8CB6SA2LC408625</td>\n",
       "      <td>NaN</td>\n",
       "      <td>NaN</td>\n",
       "      <td>NaN</td>\n",
       "      <td>NaN</td>\n",
       "      <td>NaN</td>\n",
       "      <td>NaN</td>\n",
       "      <td>NaN</td>\n",
       "      <td>NaN</td>\n",
       "      <td>[]</td>\n",
       "      <td>NaN</td>\n",
       "      <td>NaN</td>\n",
       "      <td>NaN</td>\n",
       "      <td>False</td>\n",
       "      <td>Richardson, TX</td>\n",
       "      <td>False</td>\n",
       "      <td>NaN</td>\n",
       "      <td>NaN</td>\n",
       "      <td>https://listings-prod.tcimg.net/listings/3185/...</td>\n",
       "      <td>['https://listings-prod.tcimg.net/listings/318...</td>\n",
       "      <td>3185</td>\n",
       "      <td>Reliable Chevrolet TX</td>\n",
       "      <td>http://www.reliablechev.com/</td>\n",
       "      <td>800 N Central Expressway</td>\n",
       "      <td>NaN</td>\n",
       "      <td>75080</td>\n",
       "      <td>32.94195</td>\n",
       "      <td>-96.74401</td>\n",
       "      <td>Richardson</td>\n",
       "      <td>TX</td>\n",
       "      <td>NaN</td>\n",
       "      <td>False</td>\n",
       "      <td>NaN</td>\n",
       "      <td>False</td>\n",
       "      <td>Offer</td>\n",
       "      <td>Dealer Price</td>\n",
       "      <td>False</td>\n",
       "      <td>no_discounts</td>\n",
       "      <td>False</td>\n",
       "      <td>NaN</td>\n",
       "      <td>10742.0</td>\n",
       "      <td>NaN</td>\n",
       "      <td>10742.0</td>\n",
       "      <td>0</td>\n",
       "      <td>0</td>\n",
       "      <td>0</td>\n",
       "      <td>10742.0</td>\n",
       "      <td>NaN</td>\n",
       "      <td>NaN</td>\n",
       "      <td>[]</td>\n",
       "      <td>[]</td>\n",
       "      <td>NaN</td>\n",
       "      <td>NaN</td>\n",
       "      <td>NaN</td>\n",
       "      <td>NaN</td>\n",
       "      <td>11775.51</td>\n",
       "      <td>12503.89</td>\n",
       "      <td>8497.79</td>\n",
       "      <td>15781.61</td>\n",
       "      <td>12139.7</td>\n",
       "      <td>10925.73</td>\n",
       "      <td>0.0</td>\n",
       "      <td>0.0</td>\n",
       "      <td>0.0</td>\n",
       "      <td>0.0</td>\n",
       "      <td>EXCEPTIONAL_PRICE</td>\n",
       "      <td>NaN</td>\n",
       "      <td>NaN</td>\n",
       "      <td>NaN</td>\n",
       "      <td>NaN</td>\n",
       "      <td>NaN</td>\n",
       "    </tr>\n",
       "    <tr>\n",
       "      <th>1</th>\n",
       "      <td>hatchback</td>\n",
       "      <td>Hatchback</td>\n",
       "      <td>FWD</td>\n",
       "      <td>1.4L Inline-4 Gas</td>\n",
       "      <td>Gas</td>\n",
       "      <td>55</td>\n",
       "      <td>chevrolet</td>\n",
       "      <td>Chevrolet</td>\n",
       "      <td>8446</td>\n",
       "      <td>spark</td>\n",
       "      <td>Spark</td>\n",
       "      <td>30.0</td>\n",
       "      <td>33.0</td>\n",
       "      <td>38.0</td>\n",
       "      <td>65120.0</td>\n",
       "      <td>ls-cvt</td>\n",
       "      <td>LS CVT</td>\n",
       "      <td>Automatic</td>\n",
       "      <td>ls</td>\n",
       "      <td>LS CVT</td>\n",
       "      <td>NaN</td>\n",
       "      <td>2020</td>\n",
       "      <td>405609.0</td>\n",
       "      <td>True</td>\n",
       "      <td>no</td>\n",
       "      <td>Tan</td>\n",
       "      <td>E1D8D1</td>\n",
       "      <td>Toasted Marshmallow</td>\n",
       "      <td>Jet Black/Jet Black</td>\n",
       "      <td>10991.0</td>\n",
       "      <td>0.0</td>\n",
       "      <td>1004</td>\n",
       "      <td>USED</td>\n",
       "      <td>19C707</td>\n",
       "      <td>KL8CB6SA2LC408396</td>\n",
       "      <td>NaN</td>\n",
       "      <td>NaN</td>\n",
       "      <td>NaN</td>\n",
       "      <td>NaN</td>\n",
       "      <td>NaN</td>\n",
       "      <td>NaN</td>\n",
       "      <td>NaN</td>\n",
       "      <td>NaN</td>\n",
       "      <td>[]</td>\n",
       "      <td>NaN</td>\n",
       "      <td>NaN</td>\n",
       "      <td>NaN</td>\n",
       "      <td>False</td>\n",
       "      <td>Richardson, TX</td>\n",
       "      <td>False</td>\n",
       "      <td>NaN</td>\n",
       "      <td>NaN</td>\n",
       "      <td>https://listings-prod.tcimg.net/listings/3185/...</td>\n",
       "      <td>['https://listings-prod.tcimg.net/listings/318...</td>\n",
       "      <td>3185</td>\n",
       "      <td>Reliable Chevrolet TX</td>\n",
       "      <td>http://www.reliablechev.com/</td>\n",
       "      <td>800 N Central Expressway</td>\n",
       "      <td>NaN</td>\n",
       "      <td>75080</td>\n",
       "      <td>32.94195</td>\n",
       "      <td>-96.74401</td>\n",
       "      <td>Richardson</td>\n",
       "      <td>TX</td>\n",
       "      <td>NaN</td>\n",
       "      <td>False</td>\n",
       "      <td>NaN</td>\n",
       "      <td>False</td>\n",
       "      <td>Offer</td>\n",
       "      <td>Dealer Price</td>\n",
       "      <td>False</td>\n",
       "      <td>no_discounts</td>\n",
       "      <td>False</td>\n",
       "      <td>NaN</td>\n",
       "      <td>10991.0</td>\n",
       "      <td>NaN</td>\n",
       "      <td>10991.0</td>\n",
       "      <td>0</td>\n",
       "      <td>0</td>\n",
       "      <td>0</td>\n",
       "      <td>10991.0</td>\n",
       "      <td>NaN</td>\n",
       "      <td>NaN</td>\n",
       "      <td>[]</td>\n",
       "      <td>[]</td>\n",
       "      <td>NaN</td>\n",
       "      <td>NaN</td>\n",
       "      <td>NaN</td>\n",
       "      <td>NaN</td>\n",
       "      <td>11181.97</td>\n",
       "      <td>11873.64</td>\n",
       "      <td>8069.46</td>\n",
       "      <td>14986.14</td>\n",
       "      <td>11527.8</td>\n",
       "      <td>10375.02</td>\n",
       "      <td>0.0</td>\n",
       "      <td>0.0</td>\n",
       "      <td>0.0</td>\n",
       "      <td>0.0</td>\n",
       "      <td>GREAT_PRICE</td>\n",
       "      <td>NaN</td>\n",
       "      <td>NaN</td>\n",
       "      <td>NaN</td>\n",
       "      <td>NaN</td>\n",
       "      <td>NaN</td>\n",
       "    </tr>\n",
       "  </tbody>\n",
       "</table>\n",
       "</div>"
      ],
      "text/plain": [
       "  vehicle_body_style_slug vehicle_body_style vehicle_drive_train     vehicle_engine vehicle_fuel_type  vehicle_make_id vehicle_make_slug vehicle_make  vehicle_model_id vehicle_model_slug vehicle_model  vehicle_mpg_city  vehicle_mpg_combined  vehicle_mpg_highway  vehicle_style_id vehicle_style_slug vehicle_style vehicle_transmission vehicle_trim_slug vehicle_trim  vehicle_trim_id  vehicle_year  vehicle_chrome_trim_id vehicle_carfax_report_available vehicle_enable_discount vehicle_exterior_color_generic vehicle_exterior_color_rgb vehicle_exterior_color vehicle_interior_color  vehicle_list_price  vehicle_member_discount  vehicle_mileage vehicle_new_or_used vehicle_stock_number        vehicle_vin  vehicle_truecar_make_id  vehicle_truecar_model_id  vehicle_doors  vehicle_newly_listed  vehicle_days_in_inventory  vehicle_make_logos  vehicle_provider_name  vehicle_request_price vehicle_manufacturer_options vehicle_bed_length vehicle_cab_type vehicle_roof_height vehicle_multilocation  \\\n",
       "0               hatchback          Hatchback                 FWD  1.4L Inline-4 Gas               Gas               55         chevrolet    Chevrolet              8446              spark         Spark              30.0                  33.0                 38.0           65120.0             ls-cvt        LS CVT            Automatic                ls       LS CVT              NaN          2020                405609.0                            True                      no                           Gray                     515660         Nightfall Grey    Jet Black/Jet Black             10742.0                      0.0              598                USED               19C712  KL8CB6SA2LC408625                      NaN                       NaN            NaN                   NaN                        NaN                 NaN                    NaN                    NaN                           []                NaN              NaN                 NaN                 False   \n",
       "1               hatchback          Hatchback                 FWD  1.4L Inline-4 Gas               Gas               55         chevrolet    Chevrolet              8446              spark         Spark              30.0                  33.0                 38.0           65120.0             ls-cvt        LS CVT            Automatic                ls       LS CVT              NaN          2020                405609.0                            True                      no                            Tan                     E1D8D1    Toasted Marshmallow    Jet Black/Jet Black             10991.0                      0.0             1004                USED               19C707  KL8CB6SA2LC408396                      NaN                       NaN            NaN                   NaN                        NaN                 NaN                    NaN                    NaN                           []                NaN              NaN                 NaN                 False   \n",
       "\n",
       "  vehicle_location vehicle_price_dropped vehicle_certified_pre_owned  vehicle_sponsored                                      vehicle_image                                     vehicle_images  dealership_id        dealership_name dealership_links_website_link dealership_location_address1 dealership_location_address2  dealership_location_postal_code  dealership_location_lat  dealership_location_lng dealership_location_city dealership_location_state  dealership_location_distance  pricing_flags_show_list_price_label_pre_lead pricing_flags_discount_message_pre_lead  pricing_flags_show_list_price_post_lead pricing_flags_cert_title pricing_flags_member_price_label_post_lead  pricing_flags_show_discount_post_lead pricing_flags_description  pricing_flags_show_discount_pre_lead pricing_flags_discount_label_pre_lead  pricing_list_price  pricing_member_discount  pricing_member_price  pricing_total_fees  pricing_other_fees_total  pricing_dealer_installed_options_total  pricing_total_price  \\\n",
       "0   Richardson, TX                 False                         NaN                NaN  https://listings-prod.tcimg.net/listings/3185/...  ['https://listings-prod.tcimg.net/listings/318...           3185  Reliable Chevrolet TX  http://www.reliablechev.com/     800 N Central Expressway                          NaN                            75080                 32.94195                -96.74401               Richardson                        TX                           NaN                                         False                                     NaN                                    False                    Offer                               Dealer Price                                  False              no_discounts                                 False                                   NaN             10742.0                      NaN               10742.0                   0                         0                                       0              10742.0   \n",
       "1   Richardson, TX                 False                         NaN                NaN  https://listings-prod.tcimg.net/listings/3185/...  ['https://listings-prod.tcimg.net/listings/318...           3185  Reliable Chevrolet TX  http://www.reliablechev.com/     800 N Central Expressway                          NaN                            75080                 32.94195                -96.74401               Richardson                        TX                           NaN                                         False                                     NaN                                    False                    Offer                               Dealer Price                                  False              no_discounts                                 False                                   NaN             10991.0                      NaN               10991.0                   0                         0                                       0              10991.0   \n",
       "\n",
       "   pricing_transparency_pledge  pricing_list_price_includes_doc_fee pricing_dealer_installed_options pricing_other_fees  pricing_documentation_fee  pricing_tax_rate  pricing_tax_amount  pricing_total_taxed_price  price_curve_great  price_curve_good  price_curve_min  price_curve_max  price_curve_avg  price_curve_exceptional  price_curve_market_difference  price_curve_market_difference_display  price_curve_market_difference_percent  price_curve_market_difference_percent_display price_curve_rating  price_curve_callout  vehicle_member_price price_curve_callout_label price_curve_callout_quality  price_curve_callout_quality_index  \n",
       "0                          NaN                                  NaN                               []                 []                        NaN               NaN                 NaN                        NaN           11775.51          12503.89          8497.79         15781.61          12139.7                 10925.73                            0.0                                    0.0                                    0.0                                            0.0  EXCEPTIONAL_PRICE                  NaN                   NaN                       NaN                         NaN                                NaN  \n",
       "1                          NaN                                  NaN                               []                 []                        NaN               NaN                 NaN                        NaN           11181.97          11873.64          8069.46         14986.14          11527.8                 10375.02                            0.0                                    0.0                                    0.0                                            0.0        GREAT_PRICE                  NaN                   NaN                       NaN                         NaN                                NaN  "
      ]
     },
     "execution_count": 7,
     "metadata": {},
     "output_type": "execute_result"
    }
   ],
   "source": [
    "df.head(2)"
   ]
  },
  {
   "cell_type": "code",
   "execution_count": 8,
   "metadata": {},
   "outputs": [],
   "source": [
    "df_vehicle = df.loc[:,[col for col in df.columns.values if col.startswith('vehicle') or col.startswith('dealer')]]"
   ]
  },
  {
   "cell_type": "code",
   "execution_count": 9,
   "metadata": {},
   "outputs": [
    {
     "data": {
      "text/html": [
       "<div>\n",
       "<style scoped>\n",
       "    .dataframe tbody tr th:only-of-type {\n",
       "        vertical-align: middle;\n",
       "    }\n",
       "\n",
       "    .dataframe tbody tr th {\n",
       "        vertical-align: top;\n",
       "    }\n",
       "\n",
       "    .dataframe thead th {\n",
       "        text-align: right;\n",
       "    }\n",
       "</style>\n",
       "<table border=\"1\" class=\"dataframe\">\n",
       "  <thead>\n",
       "    <tr style=\"text-align: right;\">\n",
       "      <th></th>\n",
       "      <th>vehicle_body_style_slug</th>\n",
       "      <th>vehicle_body_style</th>\n",
       "      <th>vehicle_drive_train</th>\n",
       "      <th>vehicle_engine</th>\n",
       "      <th>vehicle_fuel_type</th>\n",
       "      <th>vehicle_make_id</th>\n",
       "      <th>vehicle_make_slug</th>\n",
       "      <th>vehicle_make</th>\n",
       "      <th>vehicle_model_id</th>\n",
       "      <th>vehicle_model_slug</th>\n",
       "      <th>vehicle_model</th>\n",
       "      <th>vehicle_mpg_city</th>\n",
       "      <th>vehicle_mpg_combined</th>\n",
       "      <th>vehicle_mpg_highway</th>\n",
       "      <th>vehicle_style_id</th>\n",
       "      <th>vehicle_style_slug</th>\n",
       "      <th>vehicle_style</th>\n",
       "      <th>vehicle_transmission</th>\n",
       "      <th>vehicle_trim_slug</th>\n",
       "      <th>vehicle_trim</th>\n",
       "      <th>vehicle_trim_id</th>\n",
       "      <th>vehicle_year</th>\n",
       "      <th>vehicle_chrome_trim_id</th>\n",
       "      <th>vehicle_carfax_report_available</th>\n",
       "      <th>vehicle_enable_discount</th>\n",
       "      <th>vehicle_exterior_color_generic</th>\n",
       "      <th>vehicle_exterior_color_rgb</th>\n",
       "      <th>vehicle_exterior_color</th>\n",
       "      <th>vehicle_interior_color</th>\n",
       "      <th>vehicle_list_price</th>\n",
       "      <th>vehicle_member_discount</th>\n",
       "      <th>vehicle_mileage</th>\n",
       "      <th>vehicle_new_or_used</th>\n",
       "      <th>vehicle_stock_number</th>\n",
       "      <th>vehicle_vin</th>\n",
       "      <th>vehicle_truecar_make_id</th>\n",
       "      <th>vehicle_truecar_model_id</th>\n",
       "      <th>vehicle_doors</th>\n",
       "      <th>vehicle_newly_listed</th>\n",
       "      <th>vehicle_days_in_inventory</th>\n",
       "      <th>vehicle_make_logos</th>\n",
       "      <th>vehicle_provider_name</th>\n",
       "      <th>vehicle_request_price</th>\n",
       "      <th>vehicle_manufacturer_options</th>\n",
       "      <th>vehicle_bed_length</th>\n",
       "      <th>vehicle_cab_type</th>\n",
       "      <th>vehicle_roof_height</th>\n",
       "      <th>vehicle_multilocation</th>\n",
       "      <th>vehicle_location</th>\n",
       "      <th>vehicle_price_dropped</th>\n",
       "      <th>vehicle_certified_pre_owned</th>\n",
       "      <th>vehicle_sponsored</th>\n",
       "      <th>vehicle_image</th>\n",
       "      <th>vehicle_images</th>\n",
       "      <th>dealership_id</th>\n",
       "      <th>dealership_name</th>\n",
       "      <th>dealership_links_website_link</th>\n",
       "      <th>dealership_location_address1</th>\n",
       "      <th>dealership_location_address2</th>\n",
       "      <th>dealership_location_postal_code</th>\n",
       "      <th>dealership_location_lat</th>\n",
       "      <th>dealership_location_lng</th>\n",
       "      <th>dealership_location_city</th>\n",
       "      <th>dealership_location_state</th>\n",
       "      <th>dealership_location_distance</th>\n",
       "      <th>vehicle_member_price</th>\n",
       "    </tr>\n",
       "  </thead>\n",
       "  <tbody>\n",
       "    <tr>\n",
       "      <th>0</th>\n",
       "      <td>hatchback</td>\n",
       "      <td>Hatchback</td>\n",
       "      <td>FWD</td>\n",
       "      <td>1.4L Inline-4 Gas</td>\n",
       "      <td>Gas</td>\n",
       "      <td>55</td>\n",
       "      <td>chevrolet</td>\n",
       "      <td>Chevrolet</td>\n",
       "      <td>8446</td>\n",
       "      <td>spark</td>\n",
       "      <td>Spark</td>\n",
       "      <td>30.0</td>\n",
       "      <td>33.0</td>\n",
       "      <td>38.0</td>\n",
       "      <td>65120.0</td>\n",
       "      <td>ls-cvt</td>\n",
       "      <td>LS CVT</td>\n",
       "      <td>Automatic</td>\n",
       "      <td>ls</td>\n",
       "      <td>LS CVT</td>\n",
       "      <td>NaN</td>\n",
       "      <td>2020</td>\n",
       "      <td>405609.0</td>\n",
       "      <td>True</td>\n",
       "      <td>no</td>\n",
       "      <td>Gray</td>\n",
       "      <td>515660</td>\n",
       "      <td>Nightfall Grey</td>\n",
       "      <td>Jet Black/Jet Black</td>\n",
       "      <td>10742.0</td>\n",
       "      <td>0.0</td>\n",
       "      <td>598</td>\n",
       "      <td>USED</td>\n",
       "      <td>19C712</td>\n",
       "      <td>KL8CB6SA2LC408625</td>\n",
       "      <td>NaN</td>\n",
       "      <td>NaN</td>\n",
       "      <td>NaN</td>\n",
       "      <td>NaN</td>\n",
       "      <td>NaN</td>\n",
       "      <td>NaN</td>\n",
       "      <td>NaN</td>\n",
       "      <td>NaN</td>\n",
       "      <td>[]</td>\n",
       "      <td>NaN</td>\n",
       "      <td>NaN</td>\n",
       "      <td>NaN</td>\n",
       "      <td>False</td>\n",
       "      <td>Richardson, TX</td>\n",
       "      <td>False</td>\n",
       "      <td>NaN</td>\n",
       "      <td>NaN</td>\n",
       "      <td>https://listings-prod.tcimg.net/listings/3185/...</td>\n",
       "      <td>['https://listings-prod.tcimg.net/listings/318...</td>\n",
       "      <td>3185</td>\n",
       "      <td>Reliable Chevrolet TX</td>\n",
       "      <td>http://www.reliablechev.com/</td>\n",
       "      <td>800 N Central Expressway</td>\n",
       "      <td>NaN</td>\n",
       "      <td>75080</td>\n",
       "      <td>32.94195</td>\n",
       "      <td>-96.74401</td>\n",
       "      <td>Richardson</td>\n",
       "      <td>TX</td>\n",
       "      <td>NaN</td>\n",
       "      <td>NaN</td>\n",
       "    </tr>\n",
       "    <tr>\n",
       "      <th>1</th>\n",
       "      <td>hatchback</td>\n",
       "      <td>Hatchback</td>\n",
       "      <td>FWD</td>\n",
       "      <td>1.4L Inline-4 Gas</td>\n",
       "      <td>Gas</td>\n",
       "      <td>55</td>\n",
       "      <td>chevrolet</td>\n",
       "      <td>Chevrolet</td>\n",
       "      <td>8446</td>\n",
       "      <td>spark</td>\n",
       "      <td>Spark</td>\n",
       "      <td>30.0</td>\n",
       "      <td>33.0</td>\n",
       "      <td>38.0</td>\n",
       "      <td>65120.0</td>\n",
       "      <td>ls-cvt</td>\n",
       "      <td>LS CVT</td>\n",
       "      <td>Automatic</td>\n",
       "      <td>ls</td>\n",
       "      <td>LS CVT</td>\n",
       "      <td>NaN</td>\n",
       "      <td>2020</td>\n",
       "      <td>405609.0</td>\n",
       "      <td>True</td>\n",
       "      <td>no</td>\n",
       "      <td>Tan</td>\n",
       "      <td>E1D8D1</td>\n",
       "      <td>Toasted Marshmallow</td>\n",
       "      <td>Jet Black/Jet Black</td>\n",
       "      <td>10991.0</td>\n",
       "      <td>0.0</td>\n",
       "      <td>1004</td>\n",
       "      <td>USED</td>\n",
       "      <td>19C707</td>\n",
       "      <td>KL8CB6SA2LC408396</td>\n",
       "      <td>NaN</td>\n",
       "      <td>NaN</td>\n",
       "      <td>NaN</td>\n",
       "      <td>NaN</td>\n",
       "      <td>NaN</td>\n",
       "      <td>NaN</td>\n",
       "      <td>NaN</td>\n",
       "      <td>NaN</td>\n",
       "      <td>[]</td>\n",
       "      <td>NaN</td>\n",
       "      <td>NaN</td>\n",
       "      <td>NaN</td>\n",
       "      <td>False</td>\n",
       "      <td>Richardson, TX</td>\n",
       "      <td>False</td>\n",
       "      <td>NaN</td>\n",
       "      <td>NaN</td>\n",
       "      <td>https://listings-prod.tcimg.net/listings/3185/...</td>\n",
       "      <td>['https://listings-prod.tcimg.net/listings/318...</td>\n",
       "      <td>3185</td>\n",
       "      <td>Reliable Chevrolet TX</td>\n",
       "      <td>http://www.reliablechev.com/</td>\n",
       "      <td>800 N Central Expressway</td>\n",
       "      <td>NaN</td>\n",
       "      <td>75080</td>\n",
       "      <td>32.94195</td>\n",
       "      <td>-96.74401</td>\n",
       "      <td>Richardson</td>\n",
       "      <td>TX</td>\n",
       "      <td>NaN</td>\n",
       "      <td>NaN</td>\n",
       "    </tr>\n",
       "  </tbody>\n",
       "</table>\n",
       "</div>"
      ],
      "text/plain": [
       "  vehicle_body_style_slug vehicle_body_style vehicle_drive_train     vehicle_engine vehicle_fuel_type  vehicle_make_id vehicle_make_slug vehicle_make  vehicle_model_id vehicle_model_slug vehicle_model  vehicle_mpg_city  vehicle_mpg_combined  vehicle_mpg_highway  vehicle_style_id vehicle_style_slug vehicle_style vehicle_transmission vehicle_trim_slug vehicle_trim  vehicle_trim_id  vehicle_year  vehicle_chrome_trim_id vehicle_carfax_report_available vehicle_enable_discount vehicle_exterior_color_generic vehicle_exterior_color_rgb vehicle_exterior_color vehicle_interior_color  vehicle_list_price  vehicle_member_discount  vehicle_mileage vehicle_new_or_used vehicle_stock_number        vehicle_vin  vehicle_truecar_make_id  vehicle_truecar_model_id  vehicle_doors  vehicle_newly_listed  vehicle_days_in_inventory  vehicle_make_logos  vehicle_provider_name  vehicle_request_price vehicle_manufacturer_options vehicle_bed_length vehicle_cab_type vehicle_roof_height vehicle_multilocation  \\\n",
       "0               hatchback          Hatchback                 FWD  1.4L Inline-4 Gas               Gas               55         chevrolet    Chevrolet              8446              spark         Spark              30.0                  33.0                 38.0           65120.0             ls-cvt        LS CVT            Automatic                ls       LS CVT              NaN          2020                405609.0                            True                      no                           Gray                     515660         Nightfall Grey    Jet Black/Jet Black             10742.0                      0.0              598                USED               19C712  KL8CB6SA2LC408625                      NaN                       NaN            NaN                   NaN                        NaN                 NaN                    NaN                    NaN                           []                NaN              NaN                 NaN                 False   \n",
       "1               hatchback          Hatchback                 FWD  1.4L Inline-4 Gas               Gas               55         chevrolet    Chevrolet              8446              spark         Spark              30.0                  33.0                 38.0           65120.0             ls-cvt        LS CVT            Automatic                ls       LS CVT              NaN          2020                405609.0                            True                      no                            Tan                     E1D8D1    Toasted Marshmallow    Jet Black/Jet Black             10991.0                      0.0             1004                USED               19C707  KL8CB6SA2LC408396                      NaN                       NaN            NaN                   NaN                        NaN                 NaN                    NaN                    NaN                           []                NaN              NaN                 NaN                 False   \n",
       "\n",
       "  vehicle_location vehicle_price_dropped vehicle_certified_pre_owned  vehicle_sponsored                                      vehicle_image                                     vehicle_images  dealership_id        dealership_name dealership_links_website_link dealership_location_address1 dealership_location_address2  dealership_location_postal_code  dealership_location_lat  dealership_location_lng dealership_location_city dealership_location_state  dealership_location_distance  vehicle_member_price  \n",
       "0   Richardson, TX                 False                         NaN                NaN  https://listings-prod.tcimg.net/listings/3185/...  ['https://listings-prod.tcimg.net/listings/318...           3185  Reliable Chevrolet TX  http://www.reliablechev.com/     800 N Central Expressway                          NaN                            75080                 32.94195                -96.74401               Richardson                        TX                           NaN                   NaN  \n",
       "1   Richardson, TX                 False                         NaN                NaN  https://listings-prod.tcimg.net/listings/3185/...  ['https://listings-prod.tcimg.net/listings/318...           3185  Reliable Chevrolet TX  http://www.reliablechev.com/     800 N Central Expressway                          NaN                            75080                 32.94195                -96.74401               Richardson                        TX                           NaN                   NaN  "
      ]
     },
     "execution_count": 9,
     "metadata": {},
     "output_type": "execute_result"
    }
   ],
   "source": [
    "df_vehicle.head(2)"
   ]
  },
  {
   "cell_type": "markdown",
   "metadata": {},
   "source": [
    "### Check NA values"
   ]
  },
  {
   "cell_type": "code",
   "execution_count": 10,
   "metadata": {},
   "outputs": [],
   "source": [
    "df_na = check_missing(df_vehicle,title_=\"features missing percentage\",y_axis='percentage')"
   ]
  },
  {
   "cell_type": "code",
   "execution_count": 11,
   "metadata": {},
   "outputs": [],
   "source": [
    "#check_missing(df_vehicle,do_plot=True,title_=\"features missing percentage\",y_axis='percentage',height=700,weight=1000)"
   ]
  },
  {
   "cell_type": "code",
   "execution_count": 12,
   "metadata": {},
   "outputs": [
    {
     "data": {
      "image/png": "[encoded data removed]",
      "text/plain": [
       "<IPython.core.display.Image object>"
      ]
     },
     "execution_count": 12,
     "metadata": {},
     "output_type": "execute_result"
    }
   ],
   "source": [
    "from IPython.display import Image\n",
    "Image(filename='na_plot.png') "
   ]
  },
  {
   "cell_type": "markdown",
   "metadata": {},
   "source": [
    "### Drop missing percentage greater than 50%"
   ]
  },
  {
   "cell_type": "code",
   "execution_count": 13,
   "metadata": {},
   "outputs": [],
   "source": [
    "column_need = df_na.drop(index = df_na[df_na.percent>50].index.values).features.values"
   ]
  },
  {
   "cell_type": "code",
   "execution_count": 14,
   "metadata": {},
   "outputs": [],
   "source": [
    "df_need = df.loc[:,df.columns[df.columns.isin(column_need)].values]"
   ]
  },
  {
   "cell_type": "code",
   "execution_count": 15,
   "metadata": {},
   "outputs": [
    {
     "data": {
      "text/plain": [
       "(159497, 49)"
      ]
     },
     "execution_count": 15,
     "metadata": {},
     "output_type": "execute_result"
    }
   ],
   "source": [
    "df_need.shape"
   ]
  },
  {
   "cell_type": "markdown",
   "metadata": {},
   "source": [
    "### drop other duplicate/useless  features\n",
    "- some features are image links.\n",
    "- some features are duplicates of other columns.\n",
    "- some features has no meanings."
   ]
  },
  {
   "cell_type": "code",
   "execution_count": 16,
   "metadata": {},
   "outputs": [
    {
     "data": {
      "text/html": [
       "<div>\n",
       "<style scoped>\n",
       "    .dataframe tbody tr th:only-of-type {\n",
       "        vertical-align: middle;\n",
       "    }\n",
       "\n",
       "    .dataframe tbody tr th {\n",
       "        vertical-align: top;\n",
       "    }\n",
       "\n",
       "    .dataframe thead th {\n",
       "        text-align: right;\n",
       "    }\n",
       "</style>\n",
       "<table border=\"1\" class=\"dataframe\">\n",
       "  <thead>\n",
       "    <tr style=\"text-align: right;\">\n",
       "      <th></th>\n",
       "      <th>vehicle_body_style_slug</th>\n",
       "      <th>vehicle_body_style</th>\n",
       "      <th>vehicle_drive_train</th>\n",
       "      <th>vehicle_engine</th>\n",
       "      <th>vehicle_fuel_type</th>\n",
       "      <th>vehicle_make_id</th>\n",
       "      <th>vehicle_make_slug</th>\n",
       "      <th>vehicle_make</th>\n",
       "      <th>vehicle_model_id</th>\n",
       "      <th>vehicle_model_slug</th>\n",
       "      <th>vehicle_model</th>\n",
       "      <th>vehicle_mpg_city</th>\n",
       "      <th>vehicle_mpg_combined</th>\n",
       "      <th>vehicle_mpg_highway</th>\n",
       "      <th>vehicle_style_id</th>\n",
       "      <th>vehicle_style_slug</th>\n",
       "      <th>vehicle_style</th>\n",
       "      <th>vehicle_transmission</th>\n",
       "      <th>vehicle_trim_slug</th>\n",
       "      <th>vehicle_trim</th>\n",
       "      <th>vehicle_year</th>\n",
       "      <th>vehicle_chrome_trim_id</th>\n",
       "      <th>vehicle_carfax_report_available</th>\n",
       "      <th>vehicle_enable_discount</th>\n",
       "      <th>vehicle_exterior_color_generic</th>\n",
       "      <th>vehicle_exterior_color_rgb</th>\n",
       "      <th>vehicle_exterior_color</th>\n",
       "      <th>vehicle_interior_color</th>\n",
       "      <th>vehicle_list_price</th>\n",
       "      <th>vehicle_member_discount</th>\n",
       "      <th>vehicle_mileage</th>\n",
       "      <th>vehicle_new_or_used</th>\n",
       "      <th>vehicle_stock_number</th>\n",
       "      <th>vehicle_vin</th>\n",
       "      <th>vehicle_manufacturer_options</th>\n",
       "      <th>vehicle_multilocation</th>\n",
       "      <th>vehicle_location</th>\n",
       "      <th>vehicle_price_dropped</th>\n",
       "      <th>vehicle_image</th>\n",
       "      <th>vehicle_images</th>\n",
       "      <th>dealership_id</th>\n",
       "      <th>dealership_name</th>\n",
       "      <th>dealership_links_website_link</th>\n",
       "      <th>dealership_location_address1</th>\n",
       "      <th>dealership_location_postal_code</th>\n",
       "      <th>dealership_location_lat</th>\n",
       "      <th>dealership_location_lng</th>\n",
       "      <th>dealership_location_city</th>\n",
       "      <th>dealership_location_state</th>\n",
       "    </tr>\n",
       "  </thead>\n",
       "  <tbody>\n",
       "    <tr>\n",
       "      <th>0</th>\n",
       "      <td>hatchback</td>\n",
       "      <td>Hatchback</td>\n",
       "      <td>FWD</td>\n",
       "      <td>1.4L Inline-4 Gas</td>\n",
       "      <td>Gas</td>\n",
       "      <td>55</td>\n",
       "      <td>chevrolet</td>\n",
       "      <td>Chevrolet</td>\n",
       "      <td>8446</td>\n",
       "      <td>spark</td>\n",
       "      <td>Spark</td>\n",
       "      <td>30.0</td>\n",
       "      <td>33.0</td>\n",
       "      <td>38.0</td>\n",
       "      <td>65120.0</td>\n",
       "      <td>ls-cvt</td>\n",
       "      <td>LS CVT</td>\n",
       "      <td>Automatic</td>\n",
       "      <td>ls</td>\n",
       "      <td>LS CVT</td>\n",
       "      <td>2020</td>\n",
       "      <td>405609.0</td>\n",
       "      <td>True</td>\n",
       "      <td>no</td>\n",
       "      <td>Gray</td>\n",
       "      <td>515660</td>\n",
       "      <td>Nightfall Grey</td>\n",
       "      <td>Jet Black/Jet Black</td>\n",
       "      <td>10742.0</td>\n",
       "      <td>0.0</td>\n",
       "      <td>598</td>\n",
       "      <td>USED</td>\n",
       "      <td>19C712</td>\n",
       "      <td>KL8CB6SA2LC408625</td>\n",
       "      <td>[]</td>\n",
       "      <td>False</td>\n",
       "      <td>Richardson, TX</td>\n",
       "      <td>False</td>\n",
       "      <td>https://listings-prod.tcimg.net/listings/3185/...</td>\n",
       "      <td>['https://listings-prod.tcimg.net/listings/318...</td>\n",
       "      <td>3185</td>\n",
       "      <td>Reliable Chevrolet TX</td>\n",
       "      <td>http://www.reliablechev.com/</td>\n",
       "      <td>800 N Central Expressway</td>\n",
       "      <td>75080</td>\n",
       "      <td>32.94195</td>\n",
       "      <td>-96.74401</td>\n",
       "      <td>Richardson</td>\n",
       "      <td>TX</td>\n",
       "    </tr>\n",
       "    <tr>\n",
       "      <th>1</th>\n",
       "      <td>hatchback</td>\n",
       "      <td>Hatchback</td>\n",
       "      <td>FWD</td>\n",
       "      <td>1.4L Inline-4 Gas</td>\n",
       "      <td>Gas</td>\n",
       "      <td>55</td>\n",
       "      <td>chevrolet</td>\n",
       "      <td>Chevrolet</td>\n",
       "      <td>8446</td>\n",
       "      <td>spark</td>\n",
       "      <td>Spark</td>\n",
       "      <td>30.0</td>\n",
       "      <td>33.0</td>\n",
       "      <td>38.0</td>\n",
       "      <td>65120.0</td>\n",
       "      <td>ls-cvt</td>\n",
       "      <td>LS CVT</td>\n",
       "      <td>Automatic</td>\n",
       "      <td>ls</td>\n",
       "      <td>LS CVT</td>\n",
       "      <td>2020</td>\n",
       "      <td>405609.0</td>\n",
       "      <td>True</td>\n",
       "      <td>no</td>\n",
       "      <td>Tan</td>\n",
       "      <td>E1D8D1</td>\n",
       "      <td>Toasted Marshmallow</td>\n",
       "      <td>Jet Black/Jet Black</td>\n",
       "      <td>10991.0</td>\n",
       "      <td>0.0</td>\n",
       "      <td>1004</td>\n",
       "      <td>USED</td>\n",
       "      <td>19C707</td>\n",
       "      <td>KL8CB6SA2LC408396</td>\n",
       "      <td>[]</td>\n",
       "      <td>False</td>\n",
       "      <td>Richardson, TX</td>\n",
       "      <td>False</td>\n",
       "      <td>https://listings-prod.tcimg.net/listings/3185/...</td>\n",
       "      <td>['https://listings-prod.tcimg.net/listings/318...</td>\n",
       "      <td>3185</td>\n",
       "      <td>Reliable Chevrolet TX</td>\n",
       "      <td>http://www.reliablechev.com/</td>\n",
       "      <td>800 N Central Expressway</td>\n",
       "      <td>75080</td>\n",
       "      <td>32.94195</td>\n",
       "      <td>-96.74401</td>\n",
       "      <td>Richardson</td>\n",
       "      <td>TX</td>\n",
       "    </tr>\n",
       "  </tbody>\n",
       "</table>\n",
       "</div>"
      ],
      "text/plain": [
       "  vehicle_body_style_slug vehicle_body_style vehicle_drive_train     vehicle_engine vehicle_fuel_type  vehicle_make_id vehicle_make_slug vehicle_make  vehicle_model_id vehicle_model_slug vehicle_model  vehicle_mpg_city  vehicle_mpg_combined  vehicle_mpg_highway  vehicle_style_id vehicle_style_slug vehicle_style vehicle_transmission vehicle_trim_slug vehicle_trim  vehicle_year  vehicle_chrome_trim_id vehicle_carfax_report_available vehicle_enable_discount vehicle_exterior_color_generic vehicle_exterior_color_rgb vehicle_exterior_color vehicle_interior_color  vehicle_list_price  vehicle_member_discount  vehicle_mileage vehicle_new_or_used vehicle_stock_number        vehicle_vin vehicle_manufacturer_options vehicle_multilocation vehicle_location vehicle_price_dropped                                      vehicle_image                                     vehicle_images  dealership_id        dealership_name dealership_links_website_link dealership_location_address1  \\\n",
       "0               hatchback          Hatchback                 FWD  1.4L Inline-4 Gas               Gas               55         chevrolet    Chevrolet              8446              spark         Spark              30.0                  33.0                 38.0           65120.0             ls-cvt        LS CVT            Automatic                ls       LS CVT          2020                405609.0                            True                      no                           Gray                     515660         Nightfall Grey    Jet Black/Jet Black             10742.0                      0.0              598                USED               19C712  KL8CB6SA2LC408625                           []                 False   Richardson, TX                 False  https://listings-prod.tcimg.net/listings/3185/...  ['https://listings-prod.tcimg.net/listings/318...           3185  Reliable Chevrolet TX  http://www.reliablechev.com/     800 N Central Expressway   \n",
       "1               hatchback          Hatchback                 FWD  1.4L Inline-4 Gas               Gas               55         chevrolet    Chevrolet              8446              spark         Spark              30.0                  33.0                 38.0           65120.0             ls-cvt        LS CVT            Automatic                ls       LS CVT          2020                405609.0                            True                      no                            Tan                     E1D8D1    Toasted Marshmallow    Jet Black/Jet Black             10991.0                      0.0             1004                USED               19C707  KL8CB6SA2LC408396                           []                 False   Richardson, TX                 False  https://listings-prod.tcimg.net/listings/3185/...  ['https://listings-prod.tcimg.net/listings/318...           3185  Reliable Chevrolet TX  http://www.reliablechev.com/     800 N Central Expressway   \n",
       "\n",
       "   dealership_location_postal_code  dealership_location_lat  dealership_location_lng dealership_location_city dealership_location_state  \n",
       "0                            75080                 32.94195                -96.74401               Richardson                        TX  \n",
       "1                            75080                 32.94195                -96.74401               Richardson                        TX  "
      ]
     },
     "execution_count": 16,
     "metadata": {},
     "output_type": "execute_result"
    }
   ],
   "source": [
    "df_need.head(2)"
   ]
  },
  {
   "cell_type": "code",
   "execution_count": 17,
   "metadata": {},
   "outputs": [],
   "source": [
    "df_need.drop(['vehicle_image',\n",
    "'vehicle_images',\n",
    "'vehicle_manufacturer_options',\n",
    "\"vehicle_body_style\",\n",
    "\"vehicle_make\",\n",
    "\"vehicle_model\",\n",
    "\"vehicle_style\",\n",
    "\"vehicle_trim\",\n",
    "\"vehicle_stock_number\",\n",
    "\"vehicle_vin\",\n",
    "\"dealership_links_website_link\",\n",
    "\"dealership_location_address1\"\n",
    "],axis =1 , inplace = True)"
   ]
  },
  {
   "cell_type": "markdown",
   "metadata": {},
   "source": [
    "### Check the remaining missing values\n",
    "###  The missing percentage of missing values are trivial except \n",
    "- vehicle_enable_discount\t12.00%\n",
    "- vehicle_exterior_color_rgb\t24.68%\n",
    "- vehicle_member_discount\t29.19%\n",
    "- vehicle_mpg_combined\t31.70%"
   ]
  },
  {
   "cell_type": "markdown",
   "metadata": {},
   "source": [
    "### Drop NA list price first"
   ]
  },
  {
   "cell_type": "code",
   "execution_count": 18,
   "metadata": {},
   "outputs": [],
   "source": [
    "na_price_idx = df_need[df_need.vehicle_list_price.isnull()].index.values\n",
    "df_need.drop(index =na_price_idx, inplace = True)\n",
    "df_need.reset_index(drop = True,inplace=True)"
   ]
  },
  {
   "cell_type": "code",
   "execution_count": 19,
   "metadata": {},
   "outputs": [],
   "source": [
    "miss_columns = df_need.columns[df_need.isnull().any()].values"
   ]
  },
  {
   "cell_type": "code",
   "execution_count": 20,
   "metadata": {},
   "outputs": [
    {
     "data": {
      "text/html": [
       "<div>\n",
       "<style scoped>\n",
       "    .dataframe tbody tr th:only-of-type {\n",
       "        vertical-align: middle;\n",
       "    }\n",
       "\n",
       "    .dataframe tbody tr th {\n",
       "        vertical-align: top;\n",
       "    }\n",
       "\n",
       "    .dataframe thead th {\n",
       "        text-align: right;\n",
       "    }\n",
       "</style>\n",
       "<table border=\"1\" class=\"dataframe\">\n",
       "  <thead>\n",
       "    <tr style=\"text-align: right;\">\n",
       "      <th></th>\n",
       "      <th>features</th>\n",
       "      <th>percent</th>\n",
       "    </tr>\n",
       "  </thead>\n",
       "  <tbody>\n",
       "    <tr>\n",
       "      <th>0</th>\n",
       "      <td>vehicle_exterior_color</td>\n",
       "      <td>0.00</td>\n",
       "    </tr>\n",
       "    <tr>\n",
       "      <th>1</th>\n",
       "      <td>vehicle_interior_color</td>\n",
       "      <td>0.01</td>\n",
       "    </tr>\n",
       "    <tr>\n",
       "      <th>2</th>\n",
       "      <td>vehicle_chrome_trim_id</td>\n",
       "      <td>0.66</td>\n",
       "    </tr>\n",
       "    <tr>\n",
       "      <th>3</th>\n",
       "      <td>vehicle_fuel_type</td>\n",
       "      <td>0.73</td>\n",
       "    </tr>\n",
       "    <tr>\n",
       "      <th>4</th>\n",
       "      <td>vehicle_style_id</td>\n",
       "      <td>0.73</td>\n",
       "    </tr>\n",
       "    <tr>\n",
       "      <th>5</th>\n",
       "      <td>vehicle_style_slug</td>\n",
       "      <td>0.73</td>\n",
       "    </tr>\n",
       "    <tr>\n",
       "      <th>6</th>\n",
       "      <td>vehicle_transmission</td>\n",
       "      <td>0.73</td>\n",
       "    </tr>\n",
       "    <tr>\n",
       "      <th>7</th>\n",
       "      <td>vehicle_mpg_city</td>\n",
       "      <td>1.13</td>\n",
       "    </tr>\n",
       "    <tr>\n",
       "      <th>8</th>\n",
       "      <td>vehicle_mpg_highway</td>\n",
       "      <td>1.13</td>\n",
       "    </tr>\n",
       "    <tr>\n",
       "      <th>9</th>\n",
       "      <td>vehicle_enable_discount</td>\n",
       "      <td>12.00</td>\n",
       "    </tr>\n",
       "    <tr>\n",
       "      <th>10</th>\n",
       "      <td>vehicle_exterior_color_rgb</td>\n",
       "      <td>24.68</td>\n",
       "    </tr>\n",
       "    <tr>\n",
       "      <th>11</th>\n",
       "      <td>vehicle_member_discount</td>\n",
       "      <td>29.19</td>\n",
       "    </tr>\n",
       "    <tr>\n",
       "      <th>12</th>\n",
       "      <td>vehicle_mpg_combined</td>\n",
       "      <td>31.70</td>\n",
       "    </tr>\n",
       "  </tbody>\n",
       "</table>\n",
       "</div>"
      ],
      "text/plain": [
       "                      features  percent\n",
       "0       vehicle_exterior_color     0.00\n",
       "1       vehicle_interior_color     0.01\n",
       "2       vehicle_chrome_trim_id     0.66\n",
       "3            vehicle_fuel_type     0.73\n",
       "4             vehicle_style_id     0.73\n",
       "5           vehicle_style_slug     0.73\n",
       "6         vehicle_transmission     0.73\n",
       "7             vehicle_mpg_city     1.13\n",
       "8          vehicle_mpg_highway     1.13\n",
       "9      vehicle_enable_discount    12.00\n",
       "10  vehicle_exterior_color_rgb    24.68\n",
       "11     vehicle_member_discount    29.19\n",
       "12        vehicle_mpg_combined    31.70"
      ]
     },
     "execution_count": 20,
     "metadata": {},
     "output_type": "execute_result"
    }
   ],
   "source": [
    "check_missing(df_need[miss_columns],title_=\"features missing percentage\",y_axis='percentage')"
   ]
  },
  {
   "cell_type": "markdown",
   "metadata": {},
   "source": [
    "### Fill \"vehicle_enable_discount\" with \"no\""
   ]
  },
  {
   "cell_type": "code",
   "execution_count": 21,
   "metadata": {},
   "outputs": [
    {
     "data": {
      "text/plain": [
       "yes_all_tc    62133\n",
       "no            52978\n",
       "yes_member    21536\n",
       "Name: vehicle_enable_discount, dtype: int64"
      ]
     },
     "execution_count": 21,
     "metadata": {},
     "output_type": "execute_result"
    }
   ],
   "source": [
    "df_need.vehicle_enable_discount.value_counts()"
   ]
  },
  {
   "cell_type": "code",
   "execution_count": 22,
   "metadata": {},
   "outputs": [],
   "source": [
    "df_need.vehicle_enable_discount.fillna('no',inplace = True)"
   ]
  },
  {
   "cell_type": "markdown",
   "metadata": {},
   "source": [
    "### Fill  \"vehicle_member_discount\" with 0.0"
   ]
  },
  {
   "cell_type": "code",
   "execution_count": 23,
   "metadata": {},
   "outputs": [],
   "source": [
    "df_need.vehicle_member_discount.fillna(0.0,inplace=True)"
   ]
  },
  {
   "cell_type": "markdown",
   "metadata": {},
   "source": [
    "### Fill \"vehicle_mpg_combined\" by weighting the City value by 55% and the Highway value by 45% based on combined fuel economy calculation."
   ]
  },
  {
   "cell_type": "code",
   "execution_count": 24,
   "metadata": {},
   "outputs": [],
   "source": [
    "na_mpgcomb_idx = df_need[(df_need.vehicle_mpg_combined.isnull()) &\n",
    "                        (~df_need.vehicle_mpg_city.isnull()) &\n",
    "                        (~df_need.vehicle_mpg_highway.isnull())].index.values"
   ]
  },
  {
   "cell_type": "code",
   "execution_count": 25,
   "metadata": {},
   "outputs": [],
   "source": [
    "df_need.loc[na_mpgcomb_idx,'vehicle_mpg_combined'] = (df_need.loc[na_mpgcomb_idx,'vehicle_mpg_city'] * 0.55 + df_need.loc[na_mpgcomb_idx,'vehicle_mpg_highway'] * 0.45).values"
   ]
  },
  {
   "cell_type": "markdown",
   "metadata": {},
   "source": [
    "### Fill \"vehicle_fuel_type\" with \"Gas\""
   ]
  },
  {
   "cell_type": "code",
   "execution_count": 26,
   "metadata": {},
   "outputs": [
    {
     "data": {
      "text/plain": [
       "Gas         143874\n",
       "Diesel        5538\n",
       "Hybrid        3475\n",
       "Electric       799\n",
       "Plug-In        420\n",
       "CNG             23\n",
       "Hydrogen        16\n",
       "Name: vehicle_fuel_type, dtype: int64"
      ]
     },
     "execution_count": 26,
     "metadata": {},
     "output_type": "execute_result"
    }
   ],
   "source": [
    "df_need.vehicle_fuel_type.value_counts()"
   ]
  },
  {
   "cell_type": "code",
   "execution_count": 27,
   "metadata": {},
   "outputs": [],
   "source": [
    "df_need.vehicle_fuel_type.fillna('Gas',inplace = True)"
   ]
  },
  {
   "cell_type": "markdown",
   "metadata": {},
   "source": [
    "### Fill \"vehicle_transmission\" with \"Automatic\""
   ]
  },
  {
   "cell_type": "code",
   "execution_count": 28,
   "metadata": {},
   "outputs": [
    {
     "data": {
      "text/plain": [
       "Automatic    142894\n",
       "Manual        11251\n",
       "Name: vehicle_transmission, dtype: int64"
      ]
     },
     "execution_count": 28,
     "metadata": {},
     "output_type": "execute_result"
    }
   ],
   "source": [
    "df_need.vehicle_transmission.value_counts()"
   ]
  },
  {
   "cell_type": "code",
   "execution_count": 29,
   "metadata": {},
   "outputs": [],
   "source": [
    "df_need.vehicle_transmission.fillna('Automatic',inplace = True)"
   ]
  },
  {
   "cell_type": "markdown",
   "metadata": {},
   "source": [
    "### Fill \"vehicle_exterior_color_rgb\" with \"000000\""
   ]
  },
  {
   "cell_type": "code",
   "execution_count": 31,
   "metadata": {},
   "outputs": [],
   "source": [
    "#df_need.vehicle_exterior_color_rgb.value_counts()"
   ]
  },
  {
   "cell_type": "code",
   "execution_count": 32,
   "metadata": {},
   "outputs": [],
   "source": [
    "df_need.vehicle_exterior_color_rgb.fillna('000000',inplace = True)"
   ]
  },
  {
   "cell_type": "markdown",
   "metadata": {},
   "source": [
    "### Check missing after fill"
   ]
  },
  {
   "cell_type": "code",
   "execution_count": 33,
   "metadata": {},
   "outputs": [
    {
     "data": {
      "text/html": [
       "<div>\n",
       "<style scoped>\n",
       "    .dataframe tbody tr th:only-of-type {\n",
       "        vertical-align: middle;\n",
       "    }\n",
       "\n",
       "    .dataframe tbody tr th {\n",
       "        vertical-align: top;\n",
       "    }\n",
       "\n",
       "    .dataframe thead th {\n",
       "        text-align: right;\n",
       "    }\n",
       "</style>\n",
       "<table border=\"1\" class=\"dataframe\">\n",
       "  <thead>\n",
       "    <tr style=\"text-align: right;\">\n",
       "      <th></th>\n",
       "      <th>features</th>\n",
       "      <th>percent</th>\n",
       "    </tr>\n",
       "  </thead>\n",
       "  <tbody>\n",
       "    <tr>\n",
       "      <th>0</th>\n",
       "      <td>vehicle_fuel_type</td>\n",
       "      <td>0.00</td>\n",
       "    </tr>\n",
       "    <tr>\n",
       "      <th>1</th>\n",
       "      <td>vehicle_transmission</td>\n",
       "      <td>0.00</td>\n",
       "    </tr>\n",
       "    <tr>\n",
       "      <th>2</th>\n",
       "      <td>vehicle_enable_discount</td>\n",
       "      <td>0.00</td>\n",
       "    </tr>\n",
       "    <tr>\n",
       "      <th>3</th>\n",
       "      <td>vehicle_exterior_color_rgb</td>\n",
       "      <td>0.00</td>\n",
       "    </tr>\n",
       "    <tr>\n",
       "      <th>4</th>\n",
       "      <td>vehicle_exterior_color</td>\n",
       "      <td>0.00</td>\n",
       "    </tr>\n",
       "    <tr>\n",
       "      <th>5</th>\n",
       "      <td>vehicle_member_discount</td>\n",
       "      <td>0.00</td>\n",
       "    </tr>\n",
       "    <tr>\n",
       "      <th>6</th>\n",
       "      <td>vehicle_interior_color</td>\n",
       "      <td>0.01</td>\n",
       "    </tr>\n",
       "    <tr>\n",
       "      <th>7</th>\n",
       "      <td>vehicle_chrome_trim_id</td>\n",
       "      <td>0.66</td>\n",
       "    </tr>\n",
       "    <tr>\n",
       "      <th>8</th>\n",
       "      <td>vehicle_style_id</td>\n",
       "      <td>0.73</td>\n",
       "    </tr>\n",
       "    <tr>\n",
       "      <th>9</th>\n",
       "      <td>vehicle_style_slug</td>\n",
       "      <td>0.73</td>\n",
       "    </tr>\n",
       "    <tr>\n",
       "      <th>10</th>\n",
       "      <td>vehicle_mpg_combined</td>\n",
       "      <td>0.99</td>\n",
       "    </tr>\n",
       "    <tr>\n",
       "      <th>11</th>\n",
       "      <td>vehicle_mpg_city</td>\n",
       "      <td>1.13</td>\n",
       "    </tr>\n",
       "    <tr>\n",
       "      <th>12</th>\n",
       "      <td>vehicle_mpg_highway</td>\n",
       "      <td>1.13</td>\n",
       "    </tr>\n",
       "  </tbody>\n",
       "</table>\n",
       "</div>"
      ],
      "text/plain": [
       "                      features  percent\n",
       "0            vehicle_fuel_type     0.00\n",
       "1         vehicle_transmission     0.00\n",
       "2      vehicle_enable_discount     0.00\n",
       "3   vehicle_exterior_color_rgb     0.00\n",
       "4       vehicle_exterior_color     0.00\n",
       "5      vehicle_member_discount     0.00\n",
       "6       vehicle_interior_color     0.01\n",
       "7       vehicle_chrome_trim_id     0.66\n",
       "8             vehicle_style_id     0.73\n",
       "9           vehicle_style_slug     0.73\n",
       "10        vehicle_mpg_combined     0.99\n",
       "11            vehicle_mpg_city     1.13\n",
       "12         vehicle_mpg_highway     1.13"
      ]
     },
     "execution_count": 33,
     "metadata": {},
     "output_type": "execute_result"
    }
   ],
   "source": [
    "check_missing(df_need[miss_columns],title_=\"features missing percentage\",y_axis='percentage')"
   ]
  },
  {
   "cell_type": "markdown",
   "metadata": {},
   "source": [
    "### Drop the rest of NA values"
   ]
  },
  {
   "cell_type": "code",
   "execution_count": 34,
   "metadata": {},
   "outputs": [],
   "source": [
    "df_need.dropna(inplace=True)\n",
    "df_need.reset_index(drop = True, inplace=True)"
   ]
  },
  {
   "cell_type": "markdown",
   "metadata": {},
   "source": [
    "### No missing now!"
   ]
  },
  {
   "cell_type": "code",
   "execution_count": 35,
   "metadata": {},
   "outputs": [
    {
     "data": {
      "text/plain": [
       "vehicle_body_style_slug            0\n",
       "vehicle_drive_train                0\n",
       "vehicle_engine                     0\n",
       "vehicle_fuel_type                  0\n",
       "vehicle_make_id                    0\n",
       "vehicle_make_slug                  0\n",
       "vehicle_model_id                   0\n",
       "vehicle_model_slug                 0\n",
       "vehicle_mpg_city                   0\n",
       "vehicle_mpg_combined               0\n",
       "vehicle_mpg_highway                0\n",
       "vehicle_style_id                   0\n",
       "vehicle_style_slug                 0\n",
       "vehicle_transmission               0\n",
       "vehicle_trim_slug                  0\n",
       "vehicle_year                       0\n",
       "vehicle_chrome_trim_id             0\n",
       "vehicle_carfax_report_available    0\n",
       "vehicle_enable_discount            0\n",
       "vehicle_exterior_color_generic     0\n",
       "vehicle_exterior_color_rgb         0\n",
       "vehicle_exterior_color             0\n",
       "vehicle_interior_color             0\n",
       "vehicle_list_price                 0\n",
       "vehicle_member_discount            0\n",
       "vehicle_mileage                    0\n",
       "vehicle_new_or_used                0\n",
       "vehicle_multilocation              0\n",
       "vehicle_location                   0\n",
       "vehicle_price_dropped              0\n",
       "dealership_id                      0\n",
       "dealership_name                    0\n",
       "dealership_location_postal_code    0\n",
       "dealership_location_lat            0\n",
       "dealership_location_lng            0\n",
       "dealership_location_city           0\n",
       "dealership_location_state          0\n",
       "dtype: int64"
      ]
     },
     "execution_count": 35,
     "metadata": {},
     "output_type": "execute_result"
    }
   ],
   "source": [
    "df_need.isnull().sum()"
   ]
  },
  {
   "cell_type": "code",
   "execution_count": 36,
   "metadata": {},
   "outputs": [],
   "source": [
    "new_col_name = [col.replace(\"_slug\",\"\") for col in df_need.columns.values]"
   ]
  },
  {
   "cell_type": "code",
   "execution_count": 37,
   "metadata": {},
   "outputs": [],
   "source": [
    "df_need.rename(columns=dict(zip(df_need.columns.values,new_col_name)),inplace=True)"
   ]
  },
  {
   "cell_type": "code",
   "execution_count": 38,
   "metadata": {},
   "outputs": [
    {
     "data": {
      "text/plain": [
       "(153510, 37)"
      ]
     },
     "execution_count": 38,
     "metadata": {},
     "output_type": "execute_result"
    }
   ],
   "source": [
    "df_need.shape"
   ]
  },
  {
   "cell_type": "markdown",
   "metadata": {},
   "source": [
    "## Check outliers"
   ]
  },
  {
   "cell_type": "code",
   "execution_count": 39,
   "metadata": {},
   "outputs": [
    {
     "data": {
      "text/html": [
       "<div>\n",
       "<style scoped>\n",
       "    .dataframe tbody tr th:only-of-type {\n",
       "        vertical-align: middle;\n",
       "    }\n",
       "\n",
       "    .dataframe tbody tr th {\n",
       "        vertical-align: top;\n",
       "    }\n",
       "\n",
       "    .dataframe thead th {\n",
       "        text-align: right;\n",
       "    }\n",
       "</style>\n",
       "<table border=\"1\" class=\"dataframe\">\n",
       "  <thead>\n",
       "    <tr style=\"text-align: right;\">\n",
       "      <th></th>\n",
       "      <th>vehicle_make_id</th>\n",
       "      <th>vehicle_model_id</th>\n",
       "      <th>vehicle_mpg_city</th>\n",
       "      <th>vehicle_mpg_combined</th>\n",
       "      <th>vehicle_mpg_highway</th>\n",
       "      <th>vehicle_style_id</th>\n",
       "      <th>vehicle_year</th>\n",
       "      <th>vehicle_chrome_trim_id</th>\n",
       "      <th>vehicle_list_price</th>\n",
       "      <th>vehicle_member_discount</th>\n",
       "      <th>vehicle_mileage</th>\n",
       "      <th>dealership_id</th>\n",
       "      <th>dealership_location_postal_code</th>\n",
       "      <th>dealership_location_lat</th>\n",
       "      <th>dealership_location_lng</th>\n",
       "    </tr>\n",
       "  </thead>\n",
       "  <tbody>\n",
       "    <tr>\n",
       "      <th>count</th>\n",
       "      <td>153510.000000</td>\n",
       "      <td>153510.000000</td>\n",
       "      <td>153510.000000</td>\n",
       "      <td>153510.000000</td>\n",
       "      <td>153510.000000</td>\n",
       "      <td>153510.000000</td>\n",
       "      <td>153510.000000</td>\n",
       "      <td>153510.000000</td>\n",
       "      <td>153510.000000</td>\n",
       "      <td>153510.000000</td>\n",
       "      <td>153510.000000</td>\n",
       "      <td>153510.000000</td>\n",
       "      <td>153510.000000</td>\n",
       "      <td>153510.000000</td>\n",
       "      <td>153510.000000</td>\n",
       "    </tr>\n",
       "    <tr>\n",
       "      <th>mean</th>\n",
       "      <td>33.801746</td>\n",
       "      <td>4490.276425</td>\n",
       "      <td>21.539822</td>\n",
       "      <td>24.248447</td>\n",
       "      <td>28.603225</td>\n",
       "      <td>37244.463351</td>\n",
       "      <td>2011.556146</td>\n",
       "      <td>316749.681115</td>\n",
       "      <td>12390.828845</td>\n",
       "      <td>66.238323</td>\n",
       "      <td>84672.781825</td>\n",
       "      <td>58258.296580</td>\n",
       "      <td>53965.915354</td>\n",
       "      <td>36.668474</td>\n",
       "      <td>-93.330776</td>\n",
       "    </tr>\n",
       "    <tr>\n",
       "      <th>std</th>\n",
       "      <td>16.159310</td>\n",
       "      <td>2582.735571</td>\n",
       "      <td>10.490108</td>\n",
       "      <td>10.091848</td>\n",
       "      <td>10.111081</td>\n",
       "      <td>17135.517469</td>\n",
       "      <td>5.243703</td>\n",
       "      <td>90606.792712</td>\n",
       "      <td>10826.932624</td>\n",
       "      <td>115.267328</td>\n",
       "      <td>55493.100502</td>\n",
       "      <td>50560.893903</td>\n",
       "      <td>29954.499668</td>\n",
       "      <td>5.342813</td>\n",
       "      <td>16.709261</td>\n",
       "    </tr>\n",
       "    <tr>\n",
       "      <th>min</th>\n",
       "      <td>1.000000</td>\n",
       "      <td>2.000000</td>\n",
       "      <td>0.000000</td>\n",
       "      <td>0.000000</td>\n",
       "      <td>0.000000</td>\n",
       "      <td>21.000000</td>\n",
       "      <td>1997.000000</td>\n",
       "      <td>37.000000</td>\n",
       "      <td>1500.000000</td>\n",
       "      <td>-250.000000</td>\n",
       "      <td>5.000000</td>\n",
       "      <td>250.000000</td>\n",
       "      <td>659.000000</td>\n",
       "      <td>18.487014</td>\n",
       "      <td>-158.030670</td>\n",
       "    </tr>\n",
       "    <tr>\n",
       "      <th>25%</th>\n",
       "      <td>21.000000</td>\n",
       "      <td>2200.000000</td>\n",
       "      <td>17.000000</td>\n",
       "      <td>19.600000</td>\n",
       "      <td>24.000000</td>\n",
       "      <td>23806.000000</td>\n",
       "      <td>2008.000000</td>\n",
       "      <td>289083.000000</td>\n",
       "      <td>6999.000000</td>\n",
       "      <td>0.000000</td>\n",
       "      <td>39468.000000</td>\n",
       "      <td>16918.500000</td>\n",
       "      <td>29483.000000</td>\n",
       "      <td>33.204080</td>\n",
       "      <td>-105.106750</td>\n",
       "    </tr>\n",
       "    <tr>\n",
       "      <th>50%</th>\n",
       "      <td>35.000000</td>\n",
       "      <td>4553.000000</td>\n",
       "      <td>21.000000</td>\n",
       "      <td>24.000000</td>\n",
       "      <td>28.000000</td>\n",
       "      <td>37196.000000</td>\n",
       "      <td>2012.000000</td>\n",
       "      <td>333843.000000</td>\n",
       "      <td>10495.000000</td>\n",
       "      <td>0.000000</td>\n",
       "      <td>80623.500000</td>\n",
       "      <td>40817.000000</td>\n",
       "      <td>50325.000000</td>\n",
       "      <td>36.893010</td>\n",
       "      <td>-87.825350</td>\n",
       "    </tr>\n",
       "    <tr>\n",
       "      <th>75%</th>\n",
       "      <td>51.000000</td>\n",
       "      <td>6910.000000</td>\n",
       "      <td>25.000000</td>\n",
       "      <td>29.000000</td>\n",
       "      <td>35.000000</td>\n",
       "      <td>52064.000000</td>\n",
       "      <td>2016.000000</td>\n",
       "      <td>378771.000000</td>\n",
       "      <td>13995.000000</td>\n",
       "      <td>100.000000</td>\n",
       "      <td>119989.750000</td>\n",
       "      <td>87814.000000</td>\n",
       "      <td>80905.000000</td>\n",
       "      <td>40.624615</td>\n",
       "      <td>-80.204500</td>\n",
       "    </tr>\n",
       "    <tr>\n",
       "      <th>max</th>\n",
       "      <td>61.000000</td>\n",
       "      <td>8818.000000</td>\n",
       "      <td>137.000000</td>\n",
       "      <td>124.000000</td>\n",
       "      <td>111.000000</td>\n",
       "      <td>68203.000000</td>\n",
       "      <td>2020.000000</td>\n",
       "      <td>411659.000000</td>\n",
       "      <td>499999.000000</td>\n",
       "      <td>1500.000000</td>\n",
       "      <td>489839.000000</td>\n",
       "      <td>180283.000000</td>\n",
       "      <td>99747.000000</td>\n",
       "      <td>70.129804</td>\n",
       "      <td>-66.813172</td>\n",
       "    </tr>\n",
       "  </tbody>\n",
       "</table>\n",
       "</div>"
      ],
      "text/plain": [
       "       vehicle_make_id  vehicle_model_id  vehicle_mpg_city  vehicle_mpg_combined  vehicle_mpg_highway  vehicle_style_id   vehicle_year  vehicle_chrome_trim_id  vehicle_list_price  vehicle_member_discount  vehicle_mileage  dealership_id  dealership_location_postal_code  dealership_location_lat  dealership_location_lng\n",
       "count    153510.000000     153510.000000     153510.000000         153510.000000        153510.000000     153510.000000  153510.000000           153510.000000       153510.000000            153510.000000    153510.000000  153510.000000                    153510.000000            153510.000000            153510.000000\n",
       "mean         33.801746       4490.276425         21.539822             24.248447            28.603225      37244.463351    2011.556146           316749.681115        12390.828845                66.238323     84672.781825   58258.296580                     53965.915354                36.668474               -93.330776\n",
       "std          16.159310       2582.735571         10.490108             10.091848            10.111081      17135.517469       5.243703            90606.792712        10826.932624               115.267328     55493.100502   50560.893903                     29954.499668                 5.342813                16.709261\n",
       "min           1.000000          2.000000          0.000000              0.000000             0.000000         21.000000    1997.000000               37.000000         1500.000000              -250.000000         5.000000     250.000000                       659.000000                18.487014              -158.030670\n",
       "25%          21.000000       2200.000000         17.000000             19.600000            24.000000      23806.000000    2008.000000           289083.000000         6999.000000                 0.000000     39468.000000   16918.500000                     29483.000000                33.204080              -105.106750\n",
       "50%          35.000000       4553.000000         21.000000             24.000000            28.000000      37196.000000    2012.000000           333843.000000        10495.000000                 0.000000     80623.500000   40817.000000                     50325.000000                36.893010               -87.825350\n",
       "75%          51.000000       6910.000000         25.000000             29.000000            35.000000      52064.000000    2016.000000           378771.000000        13995.000000               100.000000    119989.750000   87814.000000                     80905.000000                40.624615               -80.204500\n",
       "max          61.000000       8818.000000        137.000000            124.000000           111.000000      68203.000000    2020.000000           411659.000000       499999.000000              1500.000000    489839.000000  180283.000000                     99747.000000                70.129804               -66.813172"
      ]
     },
     "execution_count": 39,
     "metadata": {},
     "output_type": "execute_result"
    }
   ],
   "source": [
    "df_need.select_dtypes(exclude='object').describe()"
   ]
  },
  {
   "cell_type": "markdown",
   "metadata": {},
   "source": [
    "### vehicle_mpg_city"
   ]
  },
  {
   "cell_type": "code",
   "execution_count": 40,
   "metadata": {},
   "outputs": [
    {
     "data": {
      "image/png": "[encoded data removed]",
      "text/plain": [
       "<Figure size 432x288 with 1 Axes>"
      ]
     },
     "metadata": {
      "needs_background": "light"
     },
     "output_type": "display_data"
    }
   ],
   "source": [
    "sns.boxplot(df_need.vehicle_mpg_city)\n",
    "plt.show()"
   ]
  },
  {
   "cell_type": "code",
   "execution_count": 41,
   "metadata": {},
   "outputs": [
    {
     "data": {
      "image/png": "[encoded data removed]",
      "text/plain": [
       "<Figure size 432x288 with 1 Axes>"
      ]
     },
     "metadata": {
      "needs_background": "light"
     },
     "output_type": "display_data"
    }
   ],
   "source": [
    "sns.boxplot(df_need.vehicle_mileage)\n",
    "plt.show()"
   ]
  },
  {
   "cell_type": "markdown",
   "metadata": {},
   "source": [
    "\n",
    "###  vehicle_list_price\n",
    "\n"
   ]
  },
  {
   "cell_type": "code",
   "execution_count": 42,
   "metadata": {},
   "outputs": [
    {
     "data": {
      "image/png": "[encoded data removed]",
      "text/plain": [
       "<Figure size 432x288 with 1 Axes>"
      ]
     },
     "metadata": {
      "needs_background": "light"
     },
     "output_type": "display_data"
    }
   ],
   "source": [
    "sns.distplot(df_need.vehicle_list_price)\n",
    "plt.show()"
   ]
  },
  {
   "cell_type": "markdown",
   "metadata": {},
   "source": [
    "### build a cheap used car model with some constrain\n",
    "- mpg city between 0 to 38.\n",
    "- mileage less or equal to 234500\n",
    "- price less than 22500"
   ]
  },
  {
   "cell_type": "code",
   "execution_count": 43,
   "metadata": {},
   "outputs": [],
   "source": [
    "df_new = df_need[(df_need.vehicle_mpg_city>0)&(df_need.vehicle_mpg_city<38)]\n",
    "df_new = df_new[df_new.vehicle_mileage<=234500]\n",
    "df_new = df_new[df_new.vehicle_list_price<=22500]"
   ]
  },
  {
   "cell_type": "code",
   "execution_count": 44,
   "metadata": {},
   "outputs": [
    {
     "data": {
      "image/png": "[encoded data removed]",
      "text/plain": [
       "<Figure size 432x288 with 1 Axes>"
      ]
     },
     "metadata": {
      "needs_background": "light"
     },
     "output_type": "display_data"
    }
   ],
   "source": [
    "sns.boxplot(df_new.vehicle_mpg_city)\n",
    "plt.show()"
   ]
  },
  {
   "cell_type": "code",
   "execution_count": 45,
   "metadata": {},
   "outputs": [
    {
     "data": {
      "image/png": "[encoded data removed]",
      "text/plain": [
       "<Figure size 432x288 with 1 Axes>"
      ]
     },
     "metadata": {
      "needs_background": "light"
     },
     "output_type": "display_data"
    }
   ],
   "source": [
    "sns.boxplot(df_new.vehicle_mileage)\n",
    "plt.show()"
   ]
  },
  {
   "cell_type": "code",
   "execution_count": 46,
   "metadata": {},
   "outputs": [
    {
     "data": {
      "image/png": "[encoded data removed]",
      "text/plain": [
       "<Figure size 432x288 with 1 Axes>"
      ]
     },
     "metadata": {
      "needs_background": "light"
     },
     "output_type": "display_data"
    }
   ],
   "source": [
    "sns.distplot(df_new.vehicle_list_price)\n",
    "plt.show()"
   ]
  },
  {
   "cell_type": "markdown",
   "metadata": {},
   "source": [
    "### Found 17 negative vehicle_member_discount\n",
    "- Replace them with 0"
   ]
  },
  {
   "cell_type": "code",
   "execution_count": 47,
   "metadata": {},
   "outputs": [
    {
     "data": {
      "text/plain": [
       "17"
      ]
     },
     "execution_count": 47,
     "metadata": {},
     "output_type": "execute_result"
    }
   ],
   "source": [
    "df_new[df_new.vehicle_member_discount<0].shape[0]"
   ]
  },
  {
   "cell_type": "code",
   "execution_count": 48,
   "metadata": {},
   "outputs": [],
   "source": [
    "neg_md_idx = df_new[df_new.vehicle_member_discount<0].index.values"
   ]
  },
  {
   "cell_type": "code",
   "execution_count": 49,
   "metadata": {},
   "outputs": [],
   "source": [
    "df_new.loc[neg_md_idx,'vehicle_member_discount'] = 0"
   ]
  },
  {
   "cell_type": "markdown",
   "metadata": {},
   "source": [
    "### Write out processed csv file"
   ]
  },
  {
   "cell_type": "code",
   "execution_count": 50,
   "metadata": {},
   "outputs": [
    {
     "data": {
      "text/plain": [
       "(134451, 37)"
      ]
     },
     "execution_count": 50,
     "metadata": {},
     "output_type": "execute_result"
    }
   ],
   "source": [
    "df_new.shape"
   ]
  },
  {
   "cell_type": "code",
   "execution_count": 51,
   "metadata": {},
   "outputs": [],
   "source": [
    "df_new.to_csv('../data/processed.csv',index= False)"
   ]
  },
  {
   "cell_type": "code",
   "execution_count": null,
   "metadata": {},
   "outputs": [],
   "source": []
  }
 ],
 "metadata": {
  "kernelspec": {
   "display_name": "Python 3",
   "language": "python",
   "name": "python3"
  },
  "language_info": {
   "codemirror_mode": {
    "name": "ipython",
    "version": 3
   },
   "file_extension": ".py",
   "mimetype": "text/x-python",
   "name": "python",
   "nbconvert_exporter": "python",
   "pygments_lexer": "ipython3",
   "version": "3.7.3"
  }
 },
 "nbformat": 4,
 "nbformat_minor": 2
}
