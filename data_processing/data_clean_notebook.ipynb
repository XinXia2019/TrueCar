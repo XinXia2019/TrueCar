{
 "cells": [
  {
   "cell_type": "markdown",
   "metadata": {},
   "source": [
    "# This notebook handles missing values, and removes outliers."
   ]
  },
  {
   "cell_type": "markdown",
   "metadata": {},
   "source": [
    "### Scraping data from https://www.truecar.com/"
   ]
  },
  {
   "cell_type": "code",
   "execution_count": 79,
   "metadata": {},
   "outputs": [],
   "source": [
    "import numpy as np\n",
    "import pandas as pd\n",
    "import seaborn as sns\n",
    "import matplotlib.pyplot as plt\n",
    "from vizi import *\n",
    "pd.set_option('display.max_rows', 500)\n",
    "pd.set_option('display.max_columns', 500)\n",
    "pd.set_option('display.width', 1000)"
   ]
  },
  {
   "cell_type": "code",
   "execution_count": 80,
   "metadata": {},
   "outputs": [],
   "source": [
    "df = pd.read_csv('true_car_9720.csv',dtype={'vehicle_carfax_report_available':'object',\n",
    "                                     'vehicle_multilocation':'object',\n",
    "                                     'vehicle_price_dropped':'object'})"
   ]
  },
  {
   "cell_type": "code",
   "execution_count": 81,
   "metadata": {
    "scrolled": true
   },
   "outputs": [
    {
     "data": {
      "text/plain": [
       "(174954, 105)"
      ]
     },
     "execution_count": 81,
     "metadata": {},
     "output_type": "execute_result"
    }
   ],
   "source": [
    "df.shape"
   ]
  },
  {
   "cell_type": "markdown",
   "metadata": {},
   "source": [
    "### Found 15,457 duplicates."
   ]
  },
  {
   "cell_type": "code",
   "execution_count": 82,
   "metadata": {},
   "outputs": [],
   "source": [
    "df.drop_duplicates(inplace=True)"
   ]
  },
  {
   "cell_type": "code",
   "execution_count": 83,
   "metadata": {},
   "outputs": [
    {
     "data": {
      "text/plain": [
       "(159497, 105)"
      ]
     },
     "execution_count": 83,
     "metadata": {},
     "output_type": "execute_result"
    }
   ],
   "source": [
    "df.shape"
   ]
  },
  {
   "cell_type": "code",
   "execution_count": 84,
   "metadata": {},
   "outputs": [
    {
     "data": {
      "text/plain": [
       "-15457"
      ]
     },
     "execution_count": 84,
     "metadata": {},
     "output_type": "execute_result"
    }
   ],
   "source": [
    "159497 - 174954"
   ]
  },
  {
   "cell_type": "code",
   "execution_count": 85,
   "metadata": {},
   "outputs": [],
   "source": [
    "df_vehicle = df.loc[:,[col for col in df.columns.values if col.startswith('vehicle')]]"
   ]
  },
  {
   "cell_type": "code",
   "execution_count": 86,
   "metadata": {},
   "outputs": [
    {
     "data": {
      "text/html": [
       "<div>\n",
       "<style scoped>\n",
       "    .dataframe tbody tr th:only-of-type {\n",
       "        vertical-align: middle;\n",
       "    }\n",
       "\n",
       "    .dataframe tbody tr th {\n",
       "        vertical-align: top;\n",
       "    }\n",
       "\n",
       "    .dataframe thead th {\n",
       "        text-align: right;\n",
       "    }\n",
       "</style>\n",
       "<table border=\"1\" class=\"dataframe\">\n",
       "  <thead>\n",
       "    <tr style=\"text-align: right;\">\n",
       "      <th></th>\n",
       "      <th>vehicle_body_style_slug</th>\n",
       "      <th>vehicle_body_style</th>\n",
       "      <th>vehicle_drive_train</th>\n",
       "      <th>vehicle_engine</th>\n",
       "      <th>vehicle_fuel_type</th>\n",
       "      <th>vehicle_make_id</th>\n",
       "      <th>vehicle_make_slug</th>\n",
       "      <th>vehicle_make</th>\n",
       "      <th>vehicle_model_id</th>\n",
       "      <th>vehicle_model_slug</th>\n",
       "      <th>vehicle_model</th>\n",
       "      <th>vehicle_mpg_city</th>\n",
       "      <th>vehicle_mpg_combined</th>\n",
       "      <th>vehicle_mpg_highway</th>\n",
       "      <th>vehicle_style_id</th>\n",
       "      <th>vehicle_style_slug</th>\n",
       "      <th>vehicle_style</th>\n",
       "      <th>vehicle_transmission</th>\n",
       "      <th>vehicle_trim_slug</th>\n",
       "      <th>vehicle_trim</th>\n",
       "      <th>vehicle_trim_id</th>\n",
       "      <th>vehicle_year</th>\n",
       "      <th>vehicle_chrome_trim_id</th>\n",
       "      <th>vehicle_carfax_report_available</th>\n",
       "      <th>vehicle_enable_discount</th>\n",
       "      <th>vehicle_exterior_color_generic</th>\n",
       "      <th>vehicle_exterior_color_rgb</th>\n",
       "      <th>vehicle_exterior_color</th>\n",
       "      <th>vehicle_interior_color</th>\n",
       "      <th>vehicle_list_price</th>\n",
       "      <th>vehicle_member_discount</th>\n",
       "      <th>vehicle_mileage</th>\n",
       "      <th>vehicle_new_or_used</th>\n",
       "      <th>vehicle_stock_number</th>\n",
       "      <th>vehicle_vin</th>\n",
       "      <th>vehicle_truecar_make_id</th>\n",
       "      <th>vehicle_truecar_model_id</th>\n",
       "      <th>vehicle_doors</th>\n",
       "      <th>vehicle_newly_listed</th>\n",
       "      <th>vehicle_days_in_inventory</th>\n",
       "      <th>vehicle_make_logos</th>\n",
       "      <th>vehicle_provider_name</th>\n",
       "      <th>vehicle_request_price</th>\n",
       "      <th>vehicle_manufacturer_options</th>\n",
       "      <th>vehicle_bed_length</th>\n",
       "      <th>vehicle_cab_type</th>\n",
       "      <th>vehicle_roof_height</th>\n",
       "      <th>vehicle_multilocation</th>\n",
       "      <th>vehicle_location</th>\n",
       "      <th>vehicle_price_dropped</th>\n",
       "      <th>vehicle_certified_pre_owned</th>\n",
       "      <th>vehicle_sponsored</th>\n",
       "      <th>vehicle_image</th>\n",
       "      <th>vehicle_images</th>\n",
       "      <th>vehicle_member_price</th>\n",
       "    </tr>\n",
       "  </thead>\n",
       "  <tbody>\n",
       "    <tr>\n",
       "      <td>0</td>\n",
       "      <td>hatchback</td>\n",
       "      <td>Hatchback</td>\n",
       "      <td>FWD</td>\n",
       "      <td>1.4L Inline-4 Gas</td>\n",
       "      <td>Gas</td>\n",
       "      <td>55</td>\n",
       "      <td>chevrolet</td>\n",
       "      <td>Chevrolet</td>\n",
       "      <td>8446</td>\n",
       "      <td>spark</td>\n",
       "      <td>Spark</td>\n",
       "      <td>30.0</td>\n",
       "      <td>33.0</td>\n",
       "      <td>38.0</td>\n",
       "      <td>65120.0</td>\n",
       "      <td>ls-cvt</td>\n",
       "      <td>LS CVT</td>\n",
       "      <td>Automatic</td>\n",
       "      <td>ls</td>\n",
       "      <td>LS CVT</td>\n",
       "      <td>NaN</td>\n",
       "      <td>2020</td>\n",
       "      <td>405609.0</td>\n",
       "      <td>True</td>\n",
       "      <td>no</td>\n",
       "      <td>Gray</td>\n",
       "      <td>515660</td>\n",
       "      <td>Nightfall Grey</td>\n",
       "      <td>Jet Black/Jet Black</td>\n",
       "      <td>10742.0</td>\n",
       "      <td>0.0</td>\n",
       "      <td>598</td>\n",
       "      <td>USED</td>\n",
       "      <td>19C712</td>\n",
       "      <td>KL8CB6SA2LC408625</td>\n",
       "      <td>NaN</td>\n",
       "      <td>NaN</td>\n",
       "      <td>NaN</td>\n",
       "      <td>NaN</td>\n",
       "      <td>NaN</td>\n",
       "      <td>NaN</td>\n",
       "      <td>NaN</td>\n",
       "      <td>NaN</td>\n",
       "      <td>[]</td>\n",
       "      <td>NaN</td>\n",
       "      <td>NaN</td>\n",
       "      <td>NaN</td>\n",
       "      <td>False</td>\n",
       "      <td>Richardson, TX</td>\n",
       "      <td>False</td>\n",
       "      <td>NaN</td>\n",
       "      <td>NaN</td>\n",
       "      <td>https://listings-prod.tcimg.net/listings/3185/...</td>\n",
       "      <td>['https://listings-prod.tcimg.net/listings/318...</td>\n",
       "      <td>NaN</td>\n",
       "    </tr>\n",
       "    <tr>\n",
       "      <td>1</td>\n",
       "      <td>hatchback</td>\n",
       "      <td>Hatchback</td>\n",
       "      <td>FWD</td>\n",
       "      <td>1.4L Inline-4 Gas</td>\n",
       "      <td>Gas</td>\n",
       "      <td>55</td>\n",
       "      <td>chevrolet</td>\n",
       "      <td>Chevrolet</td>\n",
       "      <td>8446</td>\n",
       "      <td>spark</td>\n",
       "      <td>Spark</td>\n",
       "      <td>30.0</td>\n",
       "      <td>33.0</td>\n",
       "      <td>38.0</td>\n",
       "      <td>65120.0</td>\n",
       "      <td>ls-cvt</td>\n",
       "      <td>LS CVT</td>\n",
       "      <td>Automatic</td>\n",
       "      <td>ls</td>\n",
       "      <td>LS CVT</td>\n",
       "      <td>NaN</td>\n",
       "      <td>2020</td>\n",
       "      <td>405609.0</td>\n",
       "      <td>True</td>\n",
       "      <td>no</td>\n",
       "      <td>Tan</td>\n",
       "      <td>E1D8D1</td>\n",
       "      <td>Toasted Marshmallow</td>\n",
       "      <td>Jet Black/Jet Black</td>\n",
       "      <td>10991.0</td>\n",
       "      <td>0.0</td>\n",
       "      <td>1004</td>\n",
       "      <td>USED</td>\n",
       "      <td>19C707</td>\n",
       "      <td>KL8CB6SA2LC408396</td>\n",
       "      <td>NaN</td>\n",
       "      <td>NaN</td>\n",
       "      <td>NaN</td>\n",
       "      <td>NaN</td>\n",
       "      <td>NaN</td>\n",
       "      <td>NaN</td>\n",
       "      <td>NaN</td>\n",
       "      <td>NaN</td>\n",
       "      <td>[]</td>\n",
       "      <td>NaN</td>\n",
       "      <td>NaN</td>\n",
       "      <td>NaN</td>\n",
       "      <td>False</td>\n",
       "      <td>Richardson, TX</td>\n",
       "      <td>False</td>\n",
       "      <td>NaN</td>\n",
       "      <td>NaN</td>\n",
       "      <td>https://listings-prod.tcimg.net/listings/3185/...</td>\n",
       "      <td>['https://listings-prod.tcimg.net/listings/318...</td>\n",
       "      <td>NaN</td>\n",
       "    </tr>\n",
       "  </tbody>\n",
       "</table>\n",
       "</div>"
      ],
      "text/plain": [
       "  vehicle_body_style_slug vehicle_body_style vehicle_drive_train     vehicle_engine vehicle_fuel_type  vehicle_make_id vehicle_make_slug vehicle_make  vehicle_model_id vehicle_model_slug vehicle_model  vehicle_mpg_city  vehicle_mpg_combined  vehicle_mpg_highway  vehicle_style_id vehicle_style_slug vehicle_style vehicle_transmission vehicle_trim_slug vehicle_trim  vehicle_trim_id  vehicle_year  vehicle_chrome_trim_id vehicle_carfax_report_available vehicle_enable_discount vehicle_exterior_color_generic vehicle_exterior_color_rgb vehicle_exterior_color vehicle_interior_color  vehicle_list_price  vehicle_member_discount  vehicle_mileage vehicle_new_or_used vehicle_stock_number        vehicle_vin  vehicle_truecar_make_id  vehicle_truecar_model_id  vehicle_doors  vehicle_newly_listed  vehicle_days_in_inventory  vehicle_make_logos  vehicle_provider_name  vehicle_request_price vehicle_manufacturer_options vehicle_bed_length vehicle_cab_type vehicle_roof_height vehicle_multilocation  \\\n",
       "0               hatchback          Hatchback                 FWD  1.4L Inline-4 Gas               Gas               55         chevrolet    Chevrolet              8446              spark         Spark              30.0                  33.0                 38.0           65120.0             ls-cvt        LS CVT            Automatic                ls       LS CVT              NaN          2020                405609.0                            True                      no                           Gray                     515660         Nightfall Grey    Jet Black/Jet Black             10742.0                      0.0              598                USED               19C712  KL8CB6SA2LC408625                      NaN                       NaN            NaN                   NaN                        NaN                 NaN                    NaN                    NaN                           []                NaN              NaN                 NaN                 False   \n",
       "1               hatchback          Hatchback                 FWD  1.4L Inline-4 Gas               Gas               55         chevrolet    Chevrolet              8446              spark         Spark              30.0                  33.0                 38.0           65120.0             ls-cvt        LS CVT            Automatic                ls       LS CVT              NaN          2020                405609.0                            True                      no                            Tan                     E1D8D1    Toasted Marshmallow    Jet Black/Jet Black             10991.0                      0.0             1004                USED               19C707  KL8CB6SA2LC408396                      NaN                       NaN            NaN                   NaN                        NaN                 NaN                    NaN                    NaN                           []                NaN              NaN                 NaN                 False   \n",
       "\n",
       "  vehicle_location vehicle_price_dropped vehicle_certified_pre_owned  vehicle_sponsored                                      vehicle_image                                     vehicle_images  vehicle_member_price  \n",
       "0   Richardson, TX                 False                         NaN                NaN  https://listings-prod.tcimg.net/listings/3185/...  ['https://listings-prod.tcimg.net/listings/318...                   NaN  \n",
       "1   Richardson, TX                 False                         NaN                NaN  https://listings-prod.tcimg.net/listings/3185/...  ['https://listings-prod.tcimg.net/listings/318...                   NaN  "
      ]
     },
     "execution_count": 86,
     "metadata": {},
     "output_type": "execute_result"
    }
   ],
   "source": [
    "df_vehicle.head(2)"
   ]
  },
  {
   "cell_type": "markdown",
   "metadata": {},
   "source": [
    "### Check NA values"
   ]
  },
  {
   "cell_type": "code",
   "execution_count": 87,
   "metadata": {},
   "outputs": [],
   "source": [
    "df_na = check_missing(df_vehicle,title_=\"features missing percentage\",y_axis='percentage')"
   ]
  },
  {
   "cell_type": "code",
   "execution_count": 88,
   "metadata": {},
   "outputs": [],
   "source": [
    "#check_missing(df_vehicle,do_plot=True,title_=\"features missing percentage\",y_axis='percentage')"
   ]
  },
  {
   "cell_type": "code",
   "execution_count": 89,
   "metadata": {},
   "outputs": [
    {
     "data": {
      "image/png": "[encoded data removed]",
      "text/plain": [
       "<IPython.core.display.Image object>"
      ]
     },
     "execution_count": 89,
     "metadata": {},
     "output_type": "execute_result"
    }
   ],
   "source": [
    "from IPython.display import Image\n",
    "Image(filename='na_plot.png') "
   ]
  },
  {
   "cell_type": "markdown",
   "metadata": {},
   "source": [
    "### Drop missing percentage greater than 50%"
   ]
  },
  {
   "cell_type": "code",
   "execution_count": 90,
   "metadata": {},
   "outputs": [],
   "source": [
    "column_need = df_na.drop(index = df_na[df_na.percent>50].index.values).features.values"
   ]
  },
  {
   "cell_type": "code",
   "execution_count": 91,
   "metadata": {},
   "outputs": [],
   "source": [
    "df_need = df_vehicle.loc[:,df_vehicle.columns[df_vehicle.columns.isin(column_need)].values]"
   ]
  },
  {
   "cell_type": "markdown",
   "metadata": {},
   "source": [
    "### drop other duplicate/useless  features\n",
    "- some features are image links.\n",
    "- some features are duplicates of other columns.\n",
    "- some features are ids that share the same meanings."
   ]
  },
  {
   "cell_type": "code",
   "execution_count": 92,
   "metadata": {},
   "outputs": [
    {
     "data": {
      "text/html": [
       "<div>\n",
       "<style scoped>\n",
       "    .dataframe tbody tr th:only-of-type {\n",
       "        vertical-align: middle;\n",
       "    }\n",
       "\n",
       "    .dataframe tbody tr th {\n",
       "        vertical-align: top;\n",
       "    }\n",
       "\n",
       "    .dataframe thead th {\n",
       "        text-align: right;\n",
       "    }\n",
       "</style>\n",
       "<table border=\"1\" class=\"dataframe\">\n",
       "  <thead>\n",
       "    <tr style=\"text-align: right;\">\n",
       "      <th></th>\n",
       "      <th>vehicle_body_style_slug</th>\n",
       "      <th>vehicle_body_style</th>\n",
       "      <th>vehicle_drive_train</th>\n",
       "      <th>vehicle_engine</th>\n",
       "      <th>vehicle_fuel_type</th>\n",
       "      <th>vehicle_make_id</th>\n",
       "      <th>vehicle_make_slug</th>\n",
       "      <th>vehicle_make</th>\n",
       "      <th>vehicle_model_id</th>\n",
       "      <th>vehicle_model_slug</th>\n",
       "      <th>vehicle_model</th>\n",
       "      <th>vehicle_mpg_city</th>\n",
       "      <th>vehicle_mpg_combined</th>\n",
       "      <th>vehicle_mpg_highway</th>\n",
       "      <th>vehicle_style_id</th>\n",
       "      <th>vehicle_style_slug</th>\n",
       "      <th>vehicle_style</th>\n",
       "      <th>vehicle_transmission</th>\n",
       "      <th>vehicle_trim_slug</th>\n",
       "      <th>vehicle_trim</th>\n",
       "      <th>vehicle_year</th>\n",
       "      <th>vehicle_chrome_trim_id</th>\n",
       "      <th>vehicle_carfax_report_available</th>\n",
       "      <th>vehicle_enable_discount</th>\n",
       "      <th>vehicle_exterior_color_generic</th>\n",
       "      <th>vehicle_exterior_color_rgb</th>\n",
       "      <th>vehicle_exterior_color</th>\n",
       "      <th>vehicle_interior_color</th>\n",
       "      <th>vehicle_list_price</th>\n",
       "      <th>vehicle_member_discount</th>\n",
       "      <th>vehicle_mileage</th>\n",
       "      <th>vehicle_new_or_used</th>\n",
       "      <th>vehicle_stock_number</th>\n",
       "      <th>vehicle_vin</th>\n",
       "      <th>vehicle_manufacturer_options</th>\n",
       "      <th>vehicle_multilocation</th>\n",
       "      <th>vehicle_location</th>\n",
       "      <th>vehicle_price_dropped</th>\n",
       "      <th>vehicle_image</th>\n",
       "      <th>vehicle_images</th>\n",
       "    </tr>\n",
       "  </thead>\n",
       "  <tbody>\n",
       "    <tr>\n",
       "      <td>0</td>\n",
       "      <td>hatchback</td>\n",
       "      <td>Hatchback</td>\n",
       "      <td>FWD</td>\n",
       "      <td>1.4L Inline-4 Gas</td>\n",
       "      <td>Gas</td>\n",
       "      <td>55</td>\n",
       "      <td>chevrolet</td>\n",
       "      <td>Chevrolet</td>\n",
       "      <td>8446</td>\n",
       "      <td>spark</td>\n",
       "      <td>Spark</td>\n",
       "      <td>30.0</td>\n",
       "      <td>33.0</td>\n",
       "      <td>38.0</td>\n",
       "      <td>65120.0</td>\n",
       "      <td>ls-cvt</td>\n",
       "      <td>LS CVT</td>\n",
       "      <td>Automatic</td>\n",
       "      <td>ls</td>\n",
       "      <td>LS CVT</td>\n",
       "      <td>2020</td>\n",
       "      <td>405609.0</td>\n",
       "      <td>True</td>\n",
       "      <td>no</td>\n",
       "      <td>Gray</td>\n",
       "      <td>515660</td>\n",
       "      <td>Nightfall Grey</td>\n",
       "      <td>Jet Black/Jet Black</td>\n",
       "      <td>10742.0</td>\n",
       "      <td>0.0</td>\n",
       "      <td>598</td>\n",
       "      <td>USED</td>\n",
       "      <td>19C712</td>\n",
       "      <td>KL8CB6SA2LC408625</td>\n",
       "      <td>[]</td>\n",
       "      <td>False</td>\n",
       "      <td>Richardson, TX</td>\n",
       "      <td>False</td>\n",
       "      <td>https://listings-prod.tcimg.net/listings/3185/...</td>\n",
       "      <td>['https://listings-prod.tcimg.net/listings/318...</td>\n",
       "    </tr>\n",
       "    <tr>\n",
       "      <td>1</td>\n",
       "      <td>hatchback</td>\n",
       "      <td>Hatchback</td>\n",
       "      <td>FWD</td>\n",
       "      <td>1.4L Inline-4 Gas</td>\n",
       "      <td>Gas</td>\n",
       "      <td>55</td>\n",
       "      <td>chevrolet</td>\n",
       "      <td>Chevrolet</td>\n",
       "      <td>8446</td>\n",
       "      <td>spark</td>\n",
       "      <td>Spark</td>\n",
       "      <td>30.0</td>\n",
       "      <td>33.0</td>\n",
       "      <td>38.0</td>\n",
       "      <td>65120.0</td>\n",
       "      <td>ls-cvt</td>\n",
       "      <td>LS CVT</td>\n",
       "      <td>Automatic</td>\n",
       "      <td>ls</td>\n",
       "      <td>LS CVT</td>\n",
       "      <td>2020</td>\n",
       "      <td>405609.0</td>\n",
       "      <td>True</td>\n",
       "      <td>no</td>\n",
       "      <td>Tan</td>\n",
       "      <td>E1D8D1</td>\n",
       "      <td>Toasted Marshmallow</td>\n",
       "      <td>Jet Black/Jet Black</td>\n",
       "      <td>10991.0</td>\n",
       "      <td>0.0</td>\n",
       "      <td>1004</td>\n",
       "      <td>USED</td>\n",
       "      <td>19C707</td>\n",
       "      <td>KL8CB6SA2LC408396</td>\n",
       "      <td>[]</td>\n",
       "      <td>False</td>\n",
       "      <td>Richardson, TX</td>\n",
       "      <td>False</td>\n",
       "      <td>https://listings-prod.tcimg.net/listings/3185/...</td>\n",
       "      <td>['https://listings-prod.tcimg.net/listings/318...</td>\n",
       "    </tr>\n",
       "  </tbody>\n",
       "</table>\n",
       "</div>"
      ],
      "text/plain": [
       "  vehicle_body_style_slug vehicle_body_style vehicle_drive_train     vehicle_engine vehicle_fuel_type  vehicle_make_id vehicle_make_slug vehicle_make  vehicle_model_id vehicle_model_slug vehicle_model  vehicle_mpg_city  vehicle_mpg_combined  vehicle_mpg_highway  vehicle_style_id vehicle_style_slug vehicle_style vehicle_transmission vehicle_trim_slug vehicle_trim  vehicle_year  vehicle_chrome_trim_id vehicle_carfax_report_available vehicle_enable_discount vehicle_exterior_color_generic vehicle_exterior_color_rgb vehicle_exterior_color vehicle_interior_color  vehicle_list_price  vehicle_member_discount  vehicle_mileage vehicle_new_or_used vehicle_stock_number        vehicle_vin vehicle_manufacturer_options vehicle_multilocation vehicle_location vehicle_price_dropped                                      vehicle_image                                     vehicle_images\n",
       "0               hatchback          Hatchback                 FWD  1.4L Inline-4 Gas               Gas               55         chevrolet    Chevrolet              8446              spark         Spark              30.0                  33.0                 38.0           65120.0             ls-cvt        LS CVT            Automatic                ls       LS CVT          2020                405609.0                            True                      no                           Gray                     515660         Nightfall Grey    Jet Black/Jet Black             10742.0                      0.0              598                USED               19C712  KL8CB6SA2LC408625                           []                 False   Richardson, TX                 False  https://listings-prod.tcimg.net/listings/3185/...  ['https://listings-prod.tcimg.net/listings/318...\n",
       "1               hatchback          Hatchback                 FWD  1.4L Inline-4 Gas               Gas               55         chevrolet    Chevrolet              8446              spark         Spark              30.0                  33.0                 38.0           65120.0             ls-cvt        LS CVT            Automatic                ls       LS CVT          2020                405609.0                            True                      no                            Tan                     E1D8D1    Toasted Marshmallow    Jet Black/Jet Black             10991.0                      0.0             1004                USED               19C707  KL8CB6SA2LC408396                           []                 False   Richardson, TX                 False  https://listings-prod.tcimg.net/listings/3185/...  ['https://listings-prod.tcimg.net/listings/318..."
      ]
     },
     "execution_count": 92,
     "metadata": {},
     "output_type": "execute_result"
    }
   ],
   "source": [
    "df_need.head(2)"
   ]
  },
  {
   "cell_type": "code",
   "execution_count": 93,
   "metadata": {},
   "outputs": [],
   "source": [
    "df_need.drop(['vehicle_image',\n",
    "'vehicle_images',\n",
    "'vehicle_manufacturer_options',\n",
    "\"vehicle_body_style\",\n",
    "\"vehicle_make\",\n",
    "\"vehicle_model\",\n",
    "\"vehicle_style\",\n",
    "\"vehicle_trim\",\n",
    "\"vehicle_stock_number\",\n",
    "\"vehicle_vin\",\n",
    "\"vehicle_make_id\",\n",
    "\"vehicle_model_id\",\n",
    "\"vehicle_style_id\",\n",
    "\"vehicle_chrome_trim_id\"],axis =1 , inplace = True)"
   ]
  },
  {
   "cell_type": "markdown",
   "metadata": {},
   "source": [
    "### Check the remaining missing values\n",
    "###  The missing percentage of missing values are trivial except \n",
    "- vehicle_enable_discount ~12%\n",
    "- vehicle_member_discount ~29%\n",
    "- vehicle_mpg_combined ~32\n",
    "- vehicle_exterior_color ~25"
   ]
  },
  {
   "cell_type": "markdown",
   "metadata": {},
   "source": [
    "### Drop NA list price first"
   ]
  },
  {
   "cell_type": "code",
   "execution_count": 94,
   "metadata": {},
   "outputs": [],
   "source": [
    "na_price_idx = df_need[df_need.vehicle_list_price.isnull()].index.values\n",
    "df_need.drop(index =na_price_idx, inplace = True)\n",
    "df_need.reset_index(drop = True,inplace=True)"
   ]
  },
  {
   "cell_type": "code",
   "execution_count": 95,
   "metadata": {},
   "outputs": [],
   "source": [
    "miss_columns = df_need.columns[df_need.isnull().any()].values"
   ]
  },
  {
   "cell_type": "code",
   "execution_count": 96,
   "metadata": {},
   "outputs": [
    {
     "data": {
      "text/html": [
       "<div>\n",
       "<style scoped>\n",
       "    .dataframe tbody tr th:only-of-type {\n",
       "        vertical-align: middle;\n",
       "    }\n",
       "\n",
       "    .dataframe tbody tr th {\n",
       "        vertical-align: top;\n",
       "    }\n",
       "\n",
       "    .dataframe thead th {\n",
       "        text-align: right;\n",
       "    }\n",
       "</style>\n",
       "<table border=\"1\" class=\"dataframe\">\n",
       "  <thead>\n",
       "    <tr style=\"text-align: right;\">\n",
       "      <th></th>\n",
       "      <th>features</th>\n",
       "      <th>percent</th>\n",
       "    </tr>\n",
       "  </thead>\n",
       "  <tbody>\n",
       "    <tr>\n",
       "      <td>0</td>\n",
       "      <td>vehicle_exterior_color</td>\n",
       "      <td>0.00</td>\n",
       "    </tr>\n",
       "    <tr>\n",
       "      <td>1</td>\n",
       "      <td>vehicle_interior_color</td>\n",
       "      <td>0.01</td>\n",
       "    </tr>\n",
       "    <tr>\n",
       "      <td>2</td>\n",
       "      <td>vehicle_fuel_type</td>\n",
       "      <td>0.73</td>\n",
       "    </tr>\n",
       "    <tr>\n",
       "      <td>3</td>\n",
       "      <td>vehicle_style_slug</td>\n",
       "      <td>0.73</td>\n",
       "    </tr>\n",
       "    <tr>\n",
       "      <td>4</td>\n",
       "      <td>vehicle_transmission</td>\n",
       "      <td>0.73</td>\n",
       "    </tr>\n",
       "    <tr>\n",
       "      <td>5</td>\n",
       "      <td>vehicle_mpg_city</td>\n",
       "      <td>1.13</td>\n",
       "    </tr>\n",
       "    <tr>\n",
       "      <td>6</td>\n",
       "      <td>vehicle_mpg_highway</td>\n",
       "      <td>1.13</td>\n",
       "    </tr>\n",
       "    <tr>\n",
       "      <td>7</td>\n",
       "      <td>vehicle_enable_discount</td>\n",
       "      <td>12.00</td>\n",
       "    </tr>\n",
       "    <tr>\n",
       "      <td>8</td>\n",
       "      <td>vehicle_exterior_color_rgb</td>\n",
       "      <td>24.68</td>\n",
       "    </tr>\n",
       "    <tr>\n",
       "      <td>9</td>\n",
       "      <td>vehicle_member_discount</td>\n",
       "      <td>29.19</td>\n",
       "    </tr>\n",
       "    <tr>\n",
       "      <td>10</td>\n",
       "      <td>vehicle_mpg_combined</td>\n",
       "      <td>31.70</td>\n",
       "    </tr>\n",
       "  </tbody>\n",
       "</table>\n",
       "</div>"
      ],
      "text/plain": [
       "                      features  percent\n",
       "0       vehicle_exterior_color     0.00\n",
       "1       vehicle_interior_color     0.01\n",
       "2            vehicle_fuel_type     0.73\n",
       "3           vehicle_style_slug     0.73\n",
       "4         vehicle_transmission     0.73\n",
       "5             vehicle_mpg_city     1.13\n",
       "6          vehicle_mpg_highway     1.13\n",
       "7      vehicle_enable_discount    12.00\n",
       "8   vehicle_exterior_color_rgb    24.68\n",
       "9      vehicle_member_discount    29.19\n",
       "10        vehicle_mpg_combined    31.70"
      ]
     },
     "execution_count": 96,
     "metadata": {},
     "output_type": "execute_result"
    }
   ],
   "source": [
    "check_missing(df_need[miss_columns],title_=\"features missing percentage\",y_axis='percentage')"
   ]
  },
  {
   "cell_type": "markdown",
   "metadata": {},
   "source": [
    "### Fill \"vehicle_enable_discount\" with \"no\""
   ]
  },
  {
   "cell_type": "code",
   "execution_count": 97,
   "metadata": {},
   "outputs": [
    {
     "data": {
      "text/plain": [
       "yes_all_tc    62133\n",
       "no            52978\n",
       "yes_member    21536\n",
       "Name: vehicle_enable_discount, dtype: int64"
      ]
     },
     "execution_count": 97,
     "metadata": {},
     "output_type": "execute_result"
    }
   ],
   "source": [
    "df_need.vehicle_enable_discount.value_counts()"
   ]
  },
  {
   "cell_type": "code",
   "execution_count": 98,
   "metadata": {},
   "outputs": [],
   "source": [
    "df_need.vehicle_enable_discount.fillna('no',inplace = True)"
   ]
  },
  {
   "cell_type": "markdown",
   "metadata": {},
   "source": [
    "### Fill  \"vehicle_member_discount\" with 0.0"
   ]
  },
  {
   "cell_type": "code",
   "execution_count": 99,
   "metadata": {},
   "outputs": [],
   "source": [
    "df_need.vehicle_member_discount.fillna(0.0,inplace=True)"
   ]
  },
  {
   "cell_type": "markdown",
   "metadata": {},
   "source": [
    "### Fill \"vehicle_mpg_combined\" by weighting the City value by 55% and the Highway value by 45% based on combined fuel economy calculation."
   ]
  },
  {
   "cell_type": "code",
   "execution_count": 100,
   "metadata": {},
   "outputs": [],
   "source": [
    "na_mpgcomb_idx = df_need[(df_need.vehicle_mpg_combined.isnull()) &\n",
    "                        (~df_need.vehicle_mpg_city.isnull()) &\n",
    "                        (~df_need.vehicle_mpg_highway.isnull())].index.values"
   ]
  },
  {
   "cell_type": "code",
   "execution_count": 101,
   "metadata": {},
   "outputs": [],
   "source": [
    "df_need.loc[na_mpgcomb_idx,'vehicle_mpg_combined'] = (df_need.loc[na_mpgcomb_idx,'vehicle_mpg_city'] * 0.55 + df_need.loc[na_mpgcomb_idx,'vehicle_mpg_highway'] * 0.45).values"
   ]
  },
  {
   "cell_type": "markdown",
   "metadata": {},
   "source": [
    "### Fill \"vehicle_fuel_type\" with \"Gas\""
   ]
  },
  {
   "cell_type": "code",
   "execution_count": 102,
   "metadata": {},
   "outputs": [
    {
     "data": {
      "text/plain": [
       "Gas         143874\n",
       "Diesel        5538\n",
       "Hybrid        3475\n",
       "Electric       799\n",
       "Plug-In        420\n",
       "CNG             23\n",
       "Hydrogen        16\n",
       "Name: vehicle_fuel_type, dtype: int64"
      ]
     },
     "execution_count": 102,
     "metadata": {},
     "output_type": "execute_result"
    }
   ],
   "source": [
    "df_need.vehicle_fuel_type.value_counts()"
   ]
  },
  {
   "cell_type": "code",
   "execution_count": 103,
   "metadata": {},
   "outputs": [],
   "source": [
    "df_need.vehicle_fuel_type.fillna('Gas',inplace = True)"
   ]
  },
  {
   "cell_type": "markdown",
   "metadata": {},
   "source": [
    "### Fill \"vehicle_transmission\" with \"Automatic\""
   ]
  },
  {
   "cell_type": "code",
   "execution_count": 104,
   "metadata": {},
   "outputs": [
    {
     "data": {
      "text/plain": [
       "Automatic    142894\n",
       "Manual        11251\n",
       "Name: vehicle_transmission, dtype: int64"
      ]
     },
     "execution_count": 104,
     "metadata": {},
     "output_type": "execute_result"
    }
   ],
   "source": [
    "df_need.vehicle_transmission.value_counts()"
   ]
  },
  {
   "cell_type": "code",
   "execution_count": 105,
   "metadata": {},
   "outputs": [],
   "source": [
    "df_need.vehicle_transmission.fillna('Automatic',inplace = True)"
   ]
  },
  {
   "cell_type": "markdown",
   "metadata": {},
   "source": [
    "### Fill \"vehicle_exterior_color_rgb\" with \"000000\""
   ]
  },
  {
   "cell_type": "code",
   "execution_count": 106,
   "metadata": {},
   "outputs": [
    {
     "data": {
      "text/plain": [
       "000000    10244\n",
       "FFFFFF     4362\n",
       "B3B7B6     1802\n",
       "BCBCBC     1451\n",
       "050505     1443\n",
       "          ...  \n",
       "757C74        1\n",
       "AAABA5        1\n",
       "16254B        1\n",
       "3A4D60        1\n",
       "32171D        1\n",
       "Name: vehicle_exterior_color_rgb, Length: 3607, dtype: int64"
      ]
     },
     "execution_count": 106,
     "metadata": {},
     "output_type": "execute_result"
    }
   ],
   "source": [
    "df_need.vehicle_exterior_color_rgb.value_counts()"
   ]
  },
  {
   "cell_type": "code",
   "execution_count": 108,
   "metadata": {},
   "outputs": [],
   "source": [
    "df_need.vehicle_exterior_color_rgb.fillna('000000',inplace = True)"
   ]
  },
  {
   "cell_type": "code",
   "execution_count": 109,
   "metadata": {},
   "outputs": [
    {
     "name": "stdout",
     "output_type": "stream",
     "text": [
      "<class 'pandas.core.frame.DataFrame'>\n",
      "RangeIndex: 155281 entries, 0 to 155280\n",
      "Data columns (total 26 columns):\n",
      "vehicle_body_style_slug            155281 non-null object\n",
      "vehicle_drive_train                155281 non-null object\n",
      "vehicle_engine                     155281 non-null object\n",
      "vehicle_fuel_type                  155281 non-null object\n",
      "vehicle_make_slug                  155281 non-null object\n",
      "vehicle_model_slug                 155281 non-null object\n",
      "vehicle_mpg_city                   153529 non-null float64\n",
      "vehicle_mpg_combined               153741 non-null float64\n",
      "vehicle_mpg_highway                153529 non-null float64\n",
      "vehicle_style_slug                 154145 non-null object\n",
      "vehicle_transmission               155281 non-null object\n",
      "vehicle_trim_slug                  155281 non-null object\n",
      "vehicle_year                       155281 non-null int64\n",
      "vehicle_carfax_report_available    155281 non-null object\n",
      "vehicle_enable_discount            155281 non-null object\n",
      "vehicle_exterior_color_generic     155281 non-null object\n",
      "vehicle_exterior_color_rgb         155281 non-null object\n",
      "vehicle_exterior_color             155280 non-null object\n",
      "vehicle_interior_color             155263 non-null object\n",
      "vehicle_list_price                 155281 non-null float64\n",
      "vehicle_member_discount            155281 non-null float64\n",
      "vehicle_mileage                    155281 non-null int64\n",
      "vehicle_new_or_used                155281 non-null object\n",
      "vehicle_multilocation              155281 non-null object\n",
      "vehicle_location                   155281 non-null object\n",
      "vehicle_price_dropped              155281 non-null object\n",
      "dtypes: float64(5), int64(2), object(19)\n",
      "memory usage: 30.8+ MB\n"
     ]
    }
   ],
   "source": [
    "df_need.info()"
   ]
  },
  {
   "cell_type": "code",
   "execution_count": 110,
   "metadata": {},
   "outputs": [
    {
     "data": {
      "text/html": [
       "<div>\n",
       "<style scoped>\n",
       "    .dataframe tbody tr th:only-of-type {\n",
       "        vertical-align: middle;\n",
       "    }\n",
       "\n",
       "    .dataframe tbody tr th {\n",
       "        vertical-align: top;\n",
       "    }\n",
       "\n",
       "    .dataframe thead th {\n",
       "        text-align: right;\n",
       "    }\n",
       "</style>\n",
       "<table border=\"1\" class=\"dataframe\">\n",
       "  <thead>\n",
       "    <tr style=\"text-align: right;\">\n",
       "      <th></th>\n",
       "      <th>features</th>\n",
       "      <th>percent</th>\n",
       "    </tr>\n",
       "  </thead>\n",
       "  <tbody>\n",
       "    <tr>\n",
       "      <td>0</td>\n",
       "      <td>vehicle_fuel_type</td>\n",
       "      <td>0.00</td>\n",
       "    </tr>\n",
       "    <tr>\n",
       "      <td>1</td>\n",
       "      <td>vehicle_transmission</td>\n",
       "      <td>0.00</td>\n",
       "    </tr>\n",
       "    <tr>\n",
       "      <td>2</td>\n",
       "      <td>vehicle_enable_discount</td>\n",
       "      <td>0.00</td>\n",
       "    </tr>\n",
       "    <tr>\n",
       "      <td>3</td>\n",
       "      <td>vehicle_exterior_color_rgb</td>\n",
       "      <td>0.00</td>\n",
       "    </tr>\n",
       "    <tr>\n",
       "      <td>4</td>\n",
       "      <td>vehicle_exterior_color</td>\n",
       "      <td>0.00</td>\n",
       "    </tr>\n",
       "    <tr>\n",
       "      <td>5</td>\n",
       "      <td>vehicle_member_discount</td>\n",
       "      <td>0.00</td>\n",
       "    </tr>\n",
       "    <tr>\n",
       "      <td>6</td>\n",
       "      <td>vehicle_interior_color</td>\n",
       "      <td>0.01</td>\n",
       "    </tr>\n",
       "    <tr>\n",
       "      <td>7</td>\n",
       "      <td>vehicle_style_slug</td>\n",
       "      <td>0.73</td>\n",
       "    </tr>\n",
       "    <tr>\n",
       "      <td>8</td>\n",
       "      <td>vehicle_mpg_combined</td>\n",
       "      <td>0.99</td>\n",
       "    </tr>\n",
       "    <tr>\n",
       "      <td>9</td>\n",
       "      <td>vehicle_mpg_city</td>\n",
       "      <td>1.13</td>\n",
       "    </tr>\n",
       "    <tr>\n",
       "      <td>10</td>\n",
       "      <td>vehicle_mpg_highway</td>\n",
       "      <td>1.13</td>\n",
       "    </tr>\n",
       "  </tbody>\n",
       "</table>\n",
       "</div>"
      ],
      "text/plain": [
       "                      features  percent\n",
       "0            vehicle_fuel_type     0.00\n",
       "1         vehicle_transmission     0.00\n",
       "2      vehicle_enable_discount     0.00\n",
       "3   vehicle_exterior_color_rgb     0.00\n",
       "4       vehicle_exterior_color     0.00\n",
       "5      vehicle_member_discount     0.00\n",
       "6       vehicle_interior_color     0.01\n",
       "7           vehicle_style_slug     0.73\n",
       "8         vehicle_mpg_combined     0.99\n",
       "9             vehicle_mpg_city     1.13\n",
       "10         vehicle_mpg_highway     1.13"
      ]
     },
     "execution_count": 110,
     "metadata": {},
     "output_type": "execute_result"
    }
   ],
   "source": [
    "check_missing(df_need[miss_columns],title_=\"features missing percentage\",y_axis='percentage')"
   ]
  },
  {
   "cell_type": "markdown",
   "metadata": {},
   "source": [
    "### Drop the rest of NA values"
   ]
  },
  {
   "cell_type": "code",
   "execution_count": 111,
   "metadata": {},
   "outputs": [],
   "source": [
    "df_need.dropna(inplace=True)\n",
    "df_need.reset_index(drop = True, inplace=True)"
   ]
  },
  {
   "cell_type": "markdown",
   "metadata": {},
   "source": [
    "### No missing now!"
   ]
  },
  {
   "cell_type": "code",
   "execution_count": 112,
   "metadata": {},
   "outputs": [
    {
     "data": {
      "text/plain": [
       "vehicle_body_style_slug            0\n",
       "vehicle_drive_train                0\n",
       "vehicle_engine                     0\n",
       "vehicle_fuel_type                  0\n",
       "vehicle_make_slug                  0\n",
       "vehicle_model_slug                 0\n",
       "vehicle_mpg_city                   0\n",
       "vehicle_mpg_combined               0\n",
       "vehicle_mpg_highway                0\n",
       "vehicle_style_slug                 0\n",
       "vehicle_transmission               0\n",
       "vehicle_trim_slug                  0\n",
       "vehicle_year                       0\n",
       "vehicle_carfax_report_available    0\n",
       "vehicle_enable_discount            0\n",
       "vehicle_exterior_color_generic     0\n",
       "vehicle_exterior_color_rgb         0\n",
       "vehicle_exterior_color             0\n",
       "vehicle_interior_color             0\n",
       "vehicle_list_price                 0\n",
       "vehicle_member_discount            0\n",
       "vehicle_mileage                    0\n",
       "vehicle_new_or_used                0\n",
       "vehicle_multilocation              0\n",
       "vehicle_location                   0\n",
       "vehicle_price_dropped              0\n",
       "dtype: int64"
      ]
     },
     "execution_count": 112,
     "metadata": {},
     "output_type": "execute_result"
    }
   ],
   "source": [
    "df_need.isnull().sum()"
   ]
  },
  {
   "cell_type": "code",
   "execution_count": 113,
   "metadata": {},
   "outputs": [],
   "source": [
    "new_col_name = [col.replace(\"_slug\",\"\") for col in df_need.columns.values]"
   ]
  },
  {
   "cell_type": "code",
   "execution_count": 114,
   "metadata": {},
   "outputs": [],
   "source": [
    "df_need.rename(columns=dict(zip(df_need.columns.values,new_col_name)),inplace=True)"
   ]
  },
  {
   "cell_type": "code",
   "execution_count": 115,
   "metadata": {},
   "outputs": [
    {
     "data": {
      "text/plain": [
       "(153510, 26)"
      ]
     },
     "execution_count": 115,
     "metadata": {},
     "output_type": "execute_result"
    }
   ],
   "source": [
    "df_need.shape"
   ]
  },
  {
   "cell_type": "markdown",
   "metadata": {},
   "source": [
    "## Check outliers"
   ]
  },
  {
   "cell_type": "code",
   "execution_count": 116,
   "metadata": {},
   "outputs": [
    {
     "data": {
      "text/html": [
       "<div>\n",
       "<style scoped>\n",
       "    .dataframe tbody tr th:only-of-type {\n",
       "        vertical-align: middle;\n",
       "    }\n",
       "\n",
       "    .dataframe tbody tr th {\n",
       "        vertical-align: top;\n",
       "    }\n",
       "\n",
       "    .dataframe thead th {\n",
       "        text-align: right;\n",
       "    }\n",
       "</style>\n",
       "<table border=\"1\" class=\"dataframe\">\n",
       "  <thead>\n",
       "    <tr style=\"text-align: right;\">\n",
       "      <th></th>\n",
       "      <th>vehicle_mpg_city</th>\n",
       "      <th>vehicle_mpg_combined</th>\n",
       "      <th>vehicle_mpg_highway</th>\n",
       "      <th>vehicle_year</th>\n",
       "      <th>vehicle_list_price</th>\n",
       "      <th>vehicle_member_discount</th>\n",
       "      <th>vehicle_mileage</th>\n",
       "    </tr>\n",
       "  </thead>\n",
       "  <tbody>\n",
       "    <tr>\n",
       "      <td>count</td>\n",
       "      <td>153510.000000</td>\n",
       "      <td>153510.000000</td>\n",
       "      <td>153510.000000</td>\n",
       "      <td>153510.000000</td>\n",
       "      <td>153510.000000</td>\n",
       "      <td>153510.000000</td>\n",
       "      <td>153510.000000</td>\n",
       "    </tr>\n",
       "    <tr>\n",
       "      <td>mean</td>\n",
       "      <td>21.539822</td>\n",
       "      <td>24.248447</td>\n",
       "      <td>28.603225</td>\n",
       "      <td>2011.556146</td>\n",
       "      <td>12390.828845</td>\n",
       "      <td>66.238323</td>\n",
       "      <td>84672.781825</td>\n",
       "    </tr>\n",
       "    <tr>\n",
       "      <td>std</td>\n",
       "      <td>10.490108</td>\n",
       "      <td>10.091848</td>\n",
       "      <td>10.111081</td>\n",
       "      <td>5.243703</td>\n",
       "      <td>10826.932624</td>\n",
       "      <td>115.267328</td>\n",
       "      <td>55493.100502</td>\n",
       "    </tr>\n",
       "    <tr>\n",
       "      <td>min</td>\n",
       "      <td>0.000000</td>\n",
       "      <td>0.000000</td>\n",
       "      <td>0.000000</td>\n",
       "      <td>1997.000000</td>\n",
       "      <td>1500.000000</td>\n",
       "      <td>-250.000000</td>\n",
       "      <td>5.000000</td>\n",
       "    </tr>\n",
       "    <tr>\n",
       "      <td>25%</td>\n",
       "      <td>17.000000</td>\n",
       "      <td>19.600000</td>\n",
       "      <td>24.000000</td>\n",
       "      <td>2008.000000</td>\n",
       "      <td>6999.000000</td>\n",
       "      <td>0.000000</td>\n",
       "      <td>39468.000000</td>\n",
       "    </tr>\n",
       "    <tr>\n",
       "      <td>50%</td>\n",
       "      <td>21.000000</td>\n",
       "      <td>24.000000</td>\n",
       "      <td>28.000000</td>\n",
       "      <td>2012.000000</td>\n",
       "      <td>10495.000000</td>\n",
       "      <td>0.000000</td>\n",
       "      <td>80623.500000</td>\n",
       "    </tr>\n",
       "    <tr>\n",
       "      <td>75%</td>\n",
       "      <td>25.000000</td>\n",
       "      <td>29.000000</td>\n",
       "      <td>35.000000</td>\n",
       "      <td>2016.000000</td>\n",
       "      <td>13995.000000</td>\n",
       "      <td>100.000000</td>\n",
       "      <td>119989.750000</td>\n",
       "    </tr>\n",
       "    <tr>\n",
       "      <td>max</td>\n",
       "      <td>137.000000</td>\n",
       "      <td>124.000000</td>\n",
       "      <td>111.000000</td>\n",
       "      <td>2020.000000</td>\n",
       "      <td>499999.000000</td>\n",
       "      <td>1500.000000</td>\n",
       "      <td>489839.000000</td>\n",
       "    </tr>\n",
       "  </tbody>\n",
       "</table>\n",
       "</div>"
      ],
      "text/plain": [
       "       vehicle_mpg_city  vehicle_mpg_combined  vehicle_mpg_highway   vehicle_year  vehicle_list_price  vehicle_member_discount  vehicle_mileage\n",
       "count     153510.000000         153510.000000        153510.000000  153510.000000       153510.000000            153510.000000    153510.000000\n",
       "mean          21.539822             24.248447            28.603225    2011.556146        12390.828845                66.238323     84672.781825\n",
       "std           10.490108             10.091848            10.111081       5.243703        10826.932624               115.267328     55493.100502\n",
       "min            0.000000              0.000000             0.000000    1997.000000         1500.000000              -250.000000         5.000000\n",
       "25%           17.000000             19.600000            24.000000    2008.000000         6999.000000                 0.000000     39468.000000\n",
       "50%           21.000000             24.000000            28.000000    2012.000000        10495.000000                 0.000000     80623.500000\n",
       "75%           25.000000             29.000000            35.000000    2016.000000        13995.000000               100.000000    119989.750000\n",
       "max          137.000000            124.000000           111.000000    2020.000000       499999.000000              1500.000000    489839.000000"
      ]
     },
     "execution_count": 116,
     "metadata": {},
     "output_type": "execute_result"
    }
   ],
   "source": [
    "df_need.select_dtypes(exclude='object').describe()"
   ]
  },
  {
   "cell_type": "markdown",
   "metadata": {},
   "source": [
    "## Check outliers\n",
    "\n",
    "- Constrain vehicle_mpg_city between 0 and 38\n",
    "- Constrain vehicle_mileage less than or equal 235000\n",
    "- Constrain vehicle_list_price less than or equal 22500"
   ]
  },
  {
   "cell_type": "markdown",
   "metadata": {},
   "source": [
    "### vehicle_mpg_city"
   ]
  },
  {
   "cell_type": "code",
   "execution_count": 117,
   "metadata": {},
   "outputs": [
    {
     "data": {
      "image/png": "[encoded data removed]",
      "text/plain": [
       "<Figure size 432x288 with 1 Axes>"
      ]
     },
     "metadata": {
      "needs_background": "light"
     },
     "output_type": "display_data"
    }
   ],
   "source": [
    "sns.boxplot(df_need.vehicle_mpg_city)\n",
    "plt.show()"
   ]
  },
  {
   "cell_type": "markdown",
   "metadata": {},
   "source": [
    "### vehicle_mileage\n",
    "\n"
   ]
  },
  {
   "cell_type": "code",
   "execution_count": 118,
   "metadata": {},
   "outputs": [
    {
     "data": {
      "image/png": "[encoded data removed]",
      "text/plain": [
       "<Figure size 432x288 with 1 Axes>"
      ]
     },
     "metadata": {
      "needs_background": "light"
     },
     "output_type": "display_data"
    }
   ],
   "source": [
    "sns.boxplot(df_need.vehicle_mileage)\n",
    "plt.show()"
   ]
  },
  {
   "cell_type": "markdown",
   "metadata": {},
   "source": [
    "\n",
    "###  vehicle_list_price\n",
    "\n"
   ]
  },
  {
   "cell_type": "code",
   "execution_count": 119,
   "metadata": {},
   "outputs": [
    {
     "data": {
      "image/png": "[encoded data removed]",
      "text/plain": [
       "<Figure size 432x288 with 1 Axes>"
      ]
     },
     "metadata": {
      "needs_background": "light"
     },
     "output_type": "display_data"
    }
   ],
   "source": [
    "sns.distplot(df_need.vehicle_list_price)\n",
    "plt.show()"
   ]
  },
  {
   "cell_type": "markdown",
   "metadata": {},
   "source": [
    "### Remove outliers and check again\n"
   ]
  },
  {
   "cell_type": "code",
   "execution_count": 120,
   "metadata": {},
   "outputs": [],
   "source": [
    "df_new = df_need[(df_need.vehicle_mpg_city>0)&(df_need.vehicle_mpg_city<38)]\n",
    "df_new = df_new[df_new.vehicle_mileage<=234500]\n",
    "df_new = df_new[df_new.vehicle_list_price<=22500]"
   ]
  },
  {
   "cell_type": "code",
   "execution_count": 121,
   "metadata": {},
   "outputs": [
    {
     "data": {
      "image/png": "[encoded data removed]",
      "text/plain": [
       "<Figure size 432x288 with 1 Axes>"
      ]
     },
     "metadata": {
      "needs_background": "light"
     },
     "output_type": "display_data"
    }
   ],
   "source": [
    "sns.boxplot(df_new.vehicle_mpg_city)\n",
    "plt.show()"
   ]
  },
  {
   "cell_type": "code",
   "execution_count": 122,
   "metadata": {},
   "outputs": [
    {
     "data": {
      "image/png": "[encoded data removed]",
      "text/plain": [
       "<Figure size 432x288 with 1 Axes>"
      ]
     },
     "metadata": {
      "needs_background": "light"
     },
     "output_type": "display_data"
    }
   ],
   "source": [
    "sns.boxplot(df_new.vehicle_mileage)\n",
    "plt.show()"
   ]
  },
  {
   "cell_type": "code",
   "execution_count": 123,
   "metadata": {},
   "outputs": [
    {
     "data": {
      "image/png": "[encoded data removed]",
      "text/plain": [
       "<Figure size 432x288 with 1 Axes>"
      ]
     },
     "metadata": {
      "needs_background": "light"
     },
     "output_type": "display_data"
    }
   ],
   "source": [
    "sns.distplot(df_new.vehicle_list_price)\n",
    "plt.show()"
   ]
  },
  {
   "cell_type": "markdown",
   "metadata": {},
   "source": [
    "### Found 17 negative vehicle_member_discount\n",
    "- Replace them with 0"
   ]
  },
  {
   "cell_type": "code",
   "execution_count": 124,
   "metadata": {},
   "outputs": [
    {
     "data": {
      "text/plain": [
       "17"
      ]
     },
     "execution_count": 124,
     "metadata": {},
     "output_type": "execute_result"
    }
   ],
   "source": [
    "df_new[df_new.vehicle_member_discount<0].shape[0]"
   ]
  },
  {
   "cell_type": "code",
   "execution_count": 125,
   "metadata": {},
   "outputs": [],
   "source": [
    "neg_md_idx = df_new[df_new.vehicle_member_discount<0].index.values"
   ]
  },
  {
   "cell_type": "code",
   "execution_count": 126,
   "metadata": {},
   "outputs": [],
   "source": [
    "df_new.loc[neg_md_idx,'vehicle_member_discount'] = 0"
   ]
  },
  {
   "cell_type": "markdown",
   "metadata": {},
   "source": [
    "### Looks no problem :)\n"
   ]
  },
  {
   "cell_type": "code",
   "execution_count": 127,
   "metadata": {},
   "outputs": [
    {
     "data": {
      "text/html": [
       "<div>\n",
       "<style scoped>\n",
       "    .dataframe tbody tr th:only-of-type {\n",
       "        vertical-align: middle;\n",
       "    }\n",
       "\n",
       "    .dataframe tbody tr th {\n",
       "        vertical-align: top;\n",
       "    }\n",
       "\n",
       "    .dataframe thead th {\n",
       "        text-align: right;\n",
       "    }\n",
       "</style>\n",
       "<table border=\"1\" class=\"dataframe\">\n",
       "  <thead>\n",
       "    <tr style=\"text-align: right;\">\n",
       "      <th></th>\n",
       "      <th>vehicle_mpg_city</th>\n",
       "      <th>vehicle_mpg_combined</th>\n",
       "      <th>vehicle_mpg_highway</th>\n",
       "      <th>vehicle_year</th>\n",
       "      <th>vehicle_list_price</th>\n",
       "      <th>vehicle_member_discount</th>\n",
       "      <th>vehicle_mileage</th>\n",
       "    </tr>\n",
       "  </thead>\n",
       "  <tbody>\n",
       "    <tr>\n",
       "      <td>count</td>\n",
       "      <td>134451.000000</td>\n",
       "      <td>134451.000000</td>\n",
       "      <td>134451.000000</td>\n",
       "      <td>134451.000000</td>\n",
       "      <td>134451.000000</td>\n",
       "      <td>134451.000000</td>\n",
       "      <td>134451.000000</td>\n",
       "    </tr>\n",
       "    <tr>\n",
       "      <td>mean</td>\n",
       "      <td>21.410187</td>\n",
       "      <td>24.391468</td>\n",
       "      <td>29.142119</td>\n",
       "      <td>2011.396018</td>\n",
       "      <td>10273.470008</td>\n",
       "      <td>62.883618</td>\n",
       "      <td>86147.712230</td>\n",
       "    </tr>\n",
       "    <tr>\n",
       "      <td>std</td>\n",
       "      <td>5.023756</td>\n",
       "      <td>5.567647</td>\n",
       "      <td>6.466858</td>\n",
       "      <td>4.974376</td>\n",
       "      <td>4189.932737</td>\n",
       "      <td>108.858339</td>\n",
       "      <td>49952.254423</td>\n",
       "    </tr>\n",
       "    <tr>\n",
       "      <td>min</td>\n",
       "      <td>9.000000</td>\n",
       "      <td>0.000000</td>\n",
       "      <td>0.000000</td>\n",
       "      <td>1997.000000</td>\n",
       "      <td>1500.000000</td>\n",
       "      <td>0.000000</td>\n",
       "      <td>5.000000</td>\n",
       "    </tr>\n",
       "    <tr>\n",
       "      <td>25%</td>\n",
       "      <td>17.000000</td>\n",
       "      <td>20.000000</td>\n",
       "      <td>24.000000</td>\n",
       "      <td>2008.000000</td>\n",
       "      <td>6995.000000</td>\n",
       "      <td>0.000000</td>\n",
       "      <td>43787.500000</td>\n",
       "    </tr>\n",
       "    <tr>\n",
       "      <td>50%</td>\n",
       "      <td>21.000000</td>\n",
       "      <td>24.000000</td>\n",
       "      <td>29.000000</td>\n",
       "      <td>2012.000000</td>\n",
       "      <td>9995.000000</td>\n",
       "      <td>0.000000</td>\n",
       "      <td>83775.000000</td>\n",
       "    </tr>\n",
       "    <tr>\n",
       "      <td>75%</td>\n",
       "      <td>25.000000</td>\n",
       "      <td>29.000000</td>\n",
       "      <td>35.000000</td>\n",
       "      <td>2016.000000</td>\n",
       "      <td>13167.500000</td>\n",
       "      <td>100.000000</td>\n",
       "      <td>120081.500000</td>\n",
       "    </tr>\n",
       "    <tr>\n",
       "      <td>max</td>\n",
       "      <td>37.000000</td>\n",
       "      <td>40.000000</td>\n",
       "      <td>47.000000</td>\n",
       "      <td>2020.000000</td>\n",
       "      <td>22500.000000</td>\n",
       "      <td>1000.000000</td>\n",
       "      <td>234499.000000</td>\n",
       "    </tr>\n",
       "  </tbody>\n",
       "</table>\n",
       "</div>"
      ],
      "text/plain": [
       "       vehicle_mpg_city  vehicle_mpg_combined  vehicle_mpg_highway   vehicle_year  vehicle_list_price  vehicle_member_discount  vehicle_mileage\n",
       "count     134451.000000         134451.000000        134451.000000  134451.000000       134451.000000            134451.000000    134451.000000\n",
       "mean          21.410187             24.391468            29.142119    2011.396018        10273.470008                62.883618     86147.712230\n",
       "std            5.023756              5.567647             6.466858       4.974376         4189.932737               108.858339     49952.254423\n",
       "min            9.000000              0.000000             0.000000    1997.000000         1500.000000                 0.000000         5.000000\n",
       "25%           17.000000             20.000000            24.000000    2008.000000         6995.000000                 0.000000     43787.500000\n",
       "50%           21.000000             24.000000            29.000000    2012.000000         9995.000000                 0.000000     83775.000000\n",
       "75%           25.000000             29.000000            35.000000    2016.000000        13167.500000               100.000000    120081.500000\n",
       "max           37.000000             40.000000            47.000000    2020.000000        22500.000000              1000.000000    234499.000000"
      ]
     },
     "execution_count": 127,
     "metadata": {},
     "output_type": "execute_result"
    }
   ],
   "source": [
    "df_new.select_dtypes(exclude='object').describe()"
   ]
  },
  {
   "cell_type": "code",
   "execution_count": 128,
   "metadata": {},
   "outputs": [
    {
     "data": {
      "text/plain": [
       "(134451, 26)"
      ]
     },
     "execution_count": 128,
     "metadata": {},
     "output_type": "execute_result"
    }
   ],
   "source": [
    "df_new.shape"
   ]
  },
  {
   "cell_type": "code",
   "execution_count": 130,
   "metadata": {},
   "outputs": [],
   "source": [
    "df_new.to_csv('processed.csv',index= False)"
   ]
  }
 ],
 "metadata": {
  "kernelspec": {
   "display_name": "Python 3",
   "language": "python",
   "name": "python3"
  },
  "language_info": {
   "codemirror_mode": {
    "name": "ipython",
    "version": 3
   },
   "file_extension": ".py",
   "mimetype": "text/x-python",
   "name": "python",
   "nbconvert_exporter": "python",
   "pygments_lexer": "ipython3",
   "version": "3.7.4"
  }
 },
 "nbformat": 4,
 "nbformat_minor": 2
}
