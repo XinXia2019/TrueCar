{
 "cells": [
  {
   "cell_type": "markdown",
   "metadata": {},
   "source": [
    "## This notebook is to testing out machine learning."
   ]
  },
  {
   "cell_type": "markdown",
   "metadata": {},
   "source": [
    "### Random forest(untuned) looks awesome.\n",
    "- R2 0.87\n",
    "- RMSE 1513.33"
   ]
  },
  {
   "cell_type": "code",
   "execution_count": 25,
   "metadata": {},
   "outputs": [
    {
     "name": "stdout",
     "output_type": "stream",
     "text": [
      "----------------------------------------------------------------------------------------------------\n",
      "Linear regression...\n",
      "R2:  0.75\n",
      "RMSE: 2089.45\n",
      "Finished in  0.20 seconds\n",
      "----------------------------------------------------------------------------------------------------\n",
      "Ridge regression...\n",
      "R2:  0.75\n",
      "RMSE: 2089.45\n",
      "Finished in  0.10 seconds\n",
      "----------------------------------------------------------------------------------------------------\n",
      "Lasso regression...\n",
      "R2:  0.75\n",
      "RMSE: 2089.57\n",
      "Finished in  1.46 seconds\n",
      "----------------------------------------------------------------------------------------------------\n",
      "KNN regression...\n",
      "R2:  0.67\n",
      "RMSE: 2384.13\n",
      "Finished in  282.10 seconds\n",
      "----------------------------------------------------------------------------------------------------\n",
      "SVM linear kernal regression...\n",
      "R2:  0.73\n",
      "RMSE: 2160.96\n",
      "Finished in  0.58 seconds\n",
      "----------------------------------------------------------------------------------------------------\n",
      "Decision tree regression...\n",
      "R2:  0.78\n",
      "RMSE: 1978.30\n",
      "Finished in  1.38 seconds\n",
      "----------------------------------------------------------------------------------------------------\n",
      "Random forest regression...\n",
      "R2:  0.87\n",
      "RMSE: 1513.33\n",
      "Finished in  8.50 seconds\n",
      "----------------------------------------------------------------------------------------------------\n",
      "Gradient Boosting regression...\n",
      "R2:  0.79\n",
      "RMSE: 1913.00\n",
      "Finished in  19.27 seconds\n",
      "----------------------------------------------------------------------------------------------------\n",
      "XGboost regression...\n",
      "[20:24:10] WARNING: C:/Jenkins/workspace/xgboost-win64_release_0.90/src/objective/regression_obj.cu:152: reg:linear is now deprecated in favor of reg:squarederror.\n",
      "R2:  0.79\n",
      "RMSE: 1912.64\n",
      "Finished in  24.17 seconds\n"
     ]
    }
   ],
   "source": [
    "%run ml_regressors.py"
   ]
  }
 ],
 "metadata": {
  "kernelspec": {
   "display_name": "Python 3",
   "language": "python",
   "name": "python3"
  },
  "language_info": {
   "codemirror_mode": {
    "name": "ipython",
    "version": 3
   },
   "file_extension": ".py",
   "mimetype": "text/x-python",
   "name": "python",
   "nbconvert_exporter": "python",
   "pygments_lexer": "ipython3",
   "version": "3.7.4"
  }
 },
 "nbformat": 4,
 "nbformat_minor": 2
}
