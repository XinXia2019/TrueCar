{
 "cells": [
  {
   "cell_type": "markdown",
   "metadata": {},
   "source": [
    "## This notebook is to testing out machine learning regressors."
   ]
  },
  {
   "cell_type": "markdown",
   "metadata": {},
   "source": [
    "### Random forest(untuned) looks good.\n",
    "- R2:  0.88\n",
    "- RMSE: 1449.02"
   ]
  },
  {
   "cell_type": "code",
   "execution_count": 12,
   "metadata": {},
   "outputs": [
    {
     "name": "stdout",
     "output_type": "stream",
     "text": [
      "----------------------------------------------------------------------------------------------------\n",
      "Linear regression...\n",
      "R2:  0.71\n",
      "RMSE: 2247.85\n",
      "Finished in  0.07 seconds\n",
      "----------------------------------------------------------------------------------------------------\n",
      "Ridge regression...\n",
      "R2:  0.71\n",
      "RMSE: 2247.85\n",
      "Finished in  0.02 seconds\n",
      "----------------------------------------------------------------------------------------------------\n",
      "Lasso regression...\n",
      "R2:  0.71\n",
      "RMSE: 2247.84\n",
      "Finished in  2.06 seconds\n",
      "----------------------------------------------------------------------------------------------------\n",
      "KNN regression...\n",
      "R2:  0.72\n",
      "RMSE: 2213.85\n",
      "Finished in  143.91 seconds\n",
      "----------------------------------------------------------------------------------------------------\n",
      "SVM linear kernal regression...\n",
      "R2:  0.69\n",
      "RMSE: 2317.88\n",
      "Finished in  0.22 seconds\n",
      "----------------------------------------------------------------------------------------------------\n",
      "Decision tree regression...\n",
      "R2:  0.79\n",
      "RMSE: 1935.41\n",
      "Finished in  1.42 seconds\n",
      "----------------------------------------------------------------------------------------------------\n",
      "Random forest regression...\n",
      "R2:  0.88\n",
      "RMSE: 1449.02\n",
      "Finished in  9.25 seconds\n",
      "----------------------------------------------------------------------------------------------------\n",
      "Gradient Boosting regression...\n",
      "R2:  0.80\n",
      "RMSE: 1891.90\n",
      "Finished in  11.90 seconds\n",
      "----------------------------------------------------------------------------------------------------\n",
      "XGboost regression...\n",
      "[12:46:53] WARNING: C:/Jenkins/workspace/xgboost-win64_release_0.90/src/objective/regression_obj.cu:152: reg:linear is now deprecated in favor of reg:squarederror.\n",
      "R2:  0.79\n",
      "RMSE: 1897.98\n",
      "Finished in  11.94 seconds\n"
     ]
    }
   ],
   "source": [
    "%run ml_regressors.py"
   ]
  }
 ],
 "metadata": {
  "kernelspec": {
   "display_name": "Python 3",
   "language": "python",
   "name": "python3"
  },
  "language_info": {
   "codemirror_mode": {
    "name": "ipython",
    "version": 3
   },
   "file_extension": ".py",
   "mimetype": "text/x-python",
   "name": "python",
   "nbconvert_exporter": "python",
   "pygments_lexer": "ipython3",
   "version": "3.7.3"
  }
 },
 "nbformat": 4,
 "nbformat_minor": 2
}
