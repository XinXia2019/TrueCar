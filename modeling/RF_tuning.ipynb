{
 "cells": [
  {
   "cell_type": "markdown",
   "metadata": {},
   "source": [
    "### This notebook is to tune hyperparameters of random forest using GridSearchCV"
   ]
  },
  {
   "cell_type": "markdown",
   "metadata": {},
   "source": [
    "### The result as follows\n",
    "- R2 82%\n",
    "- RMSE 1783.65"
   ]
  },
  {
   "cell_type": "code",
   "execution_count": 61,
   "metadata": {},
   "outputs": [],
   "source": [
    "import warnings\n",
    "import pandas as pd\n",
    "import numpy as np\n",
    "from time import time as T\n",
    "from sklearn.model_selection import train_test_split\n",
    "from sklearn.metrics import mean_squared_error,r2_score\n",
    "from sklearn.ensemble import RandomForestRegressor\n",
    "from sklearn.model_selection import GridSearchCV\n",
    "#from sklearn.model_selection import RandomizedSearchCV\n",
    "warnings.filterwarnings(\"ignore\")\n",
    "pd.set_option('display.max_rows', 500)\n",
    "pd.set_option('display.max_columns', 500)\n",
    "pd.set_option('display.width', 1000)"
   ]
  },
  {
   "cell_type": "code",
   "execution_count": 2,
   "metadata": {},
   "outputs": [],
   "source": [
    "###read dataset\n",
    "df = pd.read_csv('../features.csv')"
   ]
  },
  {
   "cell_type": "code",
   "execution_count": 3,
   "metadata": {},
   "outputs": [],
   "source": [
    "X = df.drop('vehicle_list_price',axis =1)\n",
    "y = df.vehicle_list_price\n",
    "\n",
    "### Train test splits\n",
    "X_train, X_test, y_train, y_test = train_test_split(\n",
    "X, y, test_size=0.2, random_state=42)"
   ]
  },
  {
   "cell_type": "code",
   "execution_count": 4,
   "metadata": {},
   "outputs": [],
   "source": [
    "#random forest regressor\n",
    "reg_rfr = RandomForestRegressor(random_state=42)\n",
    "#parameter grids\n",
    "params =dict(\n",
    "n_estimators=[200,300],\n",
    "criterion=['mse'],\n",
    "max_depth=[5,10,15,20,25,30,35,40,45,50],\n",
    "min_samples_split=[2,5,7,9,11],\n",
    "max_features=['sqrt'],\n",
    "n_jobs=[-1],\n",
    "verbose=[1])"
   ]
  },
  {
   "cell_type": "code",
   "execution_count": 9,
   "metadata": {},
   "outputs": [],
   "source": [
    "grid = GridSearchCV(estimator=reg_rfr,\n",
    "                    param_grid=params,\n",
    "                    scoring = 'neg_mean_squared_error',\n",
    "                    cv=5,\n",
    "                    n_jobs=-1,return_train_score= True)"
   ]
  },
  {
   "cell_type": "code",
   "execution_count": 10,
   "metadata": {},
   "outputs": [
    {
     "name": "stderr",
     "output_type": "stream",
     "text": [
      "[Parallel(n_jobs=-1)]: Using backend ThreadingBackend with 4 concurrent workers.\n",
      "[Parallel(n_jobs=-1)]: Done  42 tasks      | elapsed:    2.6s\n",
      "[Parallel(n_jobs=-1)]: Done 192 tasks      | elapsed:   11.8s\n"
     ]
    },
    {
     "name": "stdout",
     "output_type": "stream",
     "text": [
      "Finished in 4339.21 seconds\n"
     ]
    },
    {
     "name": "stderr",
     "output_type": "stream",
     "text": [
      "[Parallel(n_jobs=-1)]: Done 300 out of 300 | elapsed:   18.3s finished\n"
     ]
    }
   ],
   "source": [
    "start = T()\n",
    "grid.fit(X_train,y_train)\n",
    "print(f\"Finished in {T() - start:.2f} seconds\")"
   ]
  },
  {
   "cell_type": "code",
   "execution_count": 30,
   "metadata": {
    "scrolled": false
   },
   "outputs": [],
   "source": [
    "df_train_test = show_cv_results(grid)"
   ]
  },
  {
   "cell_type": "code",
   "execution_count": 83,
   "metadata": {},
   "outputs": [
    {
     "data": {
      "text/html": [
       "<div>\n",
       "<style scoped>\n",
       "    .dataframe tbody tr th:only-of-type {\n",
       "        vertical-align: middle;\n",
       "    }\n",
       "\n",
       "    .dataframe tbody tr th {\n",
       "        vertical-align: top;\n",
       "    }\n",
       "\n",
       "    .dataframe thead th {\n",
       "        text-align: right;\n",
       "    }\n",
       "</style>\n",
       "<table border=\"1\" class=\"dataframe\">\n",
       "  <thead>\n",
       "    <tr style=\"text-align: right;\">\n",
       "      <th></th>\n",
       "      <th>rmse_test</th>\n",
       "      <th>rmse_train</th>\n",
       "      <th>diff</th>\n",
       "      <th>params</th>\n",
       "    </tr>\n",
       "  </thead>\n",
       "  <tbody>\n",
       "    <tr>\n",
       "      <td>35</td>\n",
       "      <td>1796.586697</td>\n",
       "      <td>1568.116771</td>\n",
       "      <td>228.469926</td>\n",
       "      <td>{'criterion': 'mse', 'max_depth': 20, 'max_fea...</td>\n",
       "    </tr>\n",
       "    <tr>\n",
       "      <td>36</td>\n",
       "      <td>1801.485541</td>\n",
       "      <td>1591.866372</td>\n",
       "      <td>209.619168</td>\n",
       "      <td>{'criterion': 'mse', 'max_depth': 20, 'max_fea...</td>\n",
       "    </tr>\n",
       "    <tr>\n",
       "      <td>37</td>\n",
       "      <td>1802.932661</td>\n",
       "      <td>1594.913426</td>\n",
       "      <td>208.019235</td>\n",
       "      <td>{'criterion': 'mse', 'max_depth': 20, 'max_fea...</td>\n",
       "    </tr>\n",
       "    <tr>\n",
       "      <td>38</td>\n",
       "      <td>1807.860226</td>\n",
       "      <td>1614.197769</td>\n",
       "      <td>193.662457</td>\n",
       "      <td>{'criterion': 'mse', 'max_depth': 20, 'max_fea...</td>\n",
       "    </tr>\n",
       "    <tr>\n",
       "      <td>39</td>\n",
       "      <td>1810.766647</td>\n",
       "      <td>1617.885345</td>\n",
       "      <td>192.881301</td>\n",
       "      <td>{'criterion': 'mse', 'max_depth': 20, 'max_fea...</td>\n",
       "    </tr>\n",
       "  </tbody>\n",
       "</table>\n",
       "</div>"
      ],
      "text/plain": [
       "      rmse_test   rmse_train        diff                                             params\n",
       "35  1796.586697  1568.116771  228.469926  {'criterion': 'mse', 'max_depth': 20, 'max_fea...\n",
       "36  1801.485541  1591.866372  209.619168  {'criterion': 'mse', 'max_depth': 20, 'max_fea...\n",
       "37  1802.932661  1594.913426  208.019235  {'criterion': 'mse', 'max_depth': 20, 'max_fea...\n",
       "38  1807.860226  1614.197769  193.662457  {'criterion': 'mse', 'max_depth': 20, 'max_fea...\n",
       "39  1810.766647  1617.885345  192.881301  {'criterion': 'mse', 'max_depth': 20, 'max_fea..."
      ]
     },
     "execution_count": 83,
     "metadata": {},
     "output_type": "execute_result"
    }
   ],
   "source": [
    "df_train_test[35:40]"
   ]
  },
  {
   "cell_type": "code",
   "execution_count": 23,
   "metadata": {},
   "outputs": [
    {
     "data": {
      "image/png": "[encoded data removed]",
      "text/plain": [
       "<Figure size 432x288 with 1 Axes>"
      ]
     },
     "metadata": {
      "needs_background": "light"
     },
     "output_type": "display_data"
    }
   ],
   "source": [
    "show_grid_cv(grid)"
   ]
  },
  {
   "cell_type": "markdown",
   "metadata": {},
   "source": [
    "### Pick a parameter set that reduce the gap between train score and test score."
   ]
  },
  {
   "cell_type": "code",
   "execution_count": 43,
   "metadata": {},
   "outputs": [
    {
     "data": {
      "text/plain": [
       "{'criterion': 'mse',\n",
       " 'max_depth': 20,\n",
       " 'max_features': 'sqrt',\n",
       " 'min_samples_split': 11,\n",
       " 'n_estimators': 300,\n",
       " 'n_jobs': -1,\n",
       " 'verbose': 1}"
      ]
     },
     "execution_count": 43,
     "metadata": {},
     "output_type": "execute_result"
    }
   ],
   "source": [
    "grid.cv_results_['params'][39]"
   ]
  },
  {
   "cell_type": "code",
   "execution_count": 44,
   "metadata": {},
   "outputs": [
    {
     "name": "stderr",
     "output_type": "stream",
     "text": [
      "[Parallel(n_jobs=-1)]: Using backend ThreadingBackend with 4 concurrent workers.\n",
      "[Parallel(n_jobs=-1)]: Done  42 tasks      | elapsed:    1.4s\n",
      "[Parallel(n_jobs=-1)]: Done 192 tasks      | elapsed:    6.7s\n",
      "[Parallel(n_jobs=-1)]: Done 300 out of 300 | elapsed:   10.4s finished\n",
      "[Parallel(n_jobs=4)]: Using backend ThreadingBackend with 4 concurrent workers.\n",
      "[Parallel(n_jobs=4)]: Done  42 tasks      | elapsed:    0.0s\n",
      "[Parallel(n_jobs=4)]: Done 192 tasks      | elapsed:    0.1s\n",
      "[Parallel(n_jobs=4)]: Done 300 out of 300 | elapsed:    0.2s finished\n"
     ]
    },
    {
     "name": "stdout",
     "output_type": "stream",
     "text": [
      "R2:  0.82\n",
      "RMSE: 1783.65\n"
     ]
    }
   ],
   "source": [
    "reg_rfr = RandomForestRegressor(**grid.cv_results_['params'][39])\n",
    "reg_rfr.fit(X_train,y_train)\n",
    "y_pred = reg_rfr.predict(X_test)\n",
    "print(f\"R2: {r2_score(y_test,y_pred): .2f}\")\n",
    "print(f\"RMSE: {np.sqrt(mean_squared_error(y_test,y_pred)):.2f}\")"
   ]
  },
  {
   "cell_type": "code",
   "execution_count": 45,
   "metadata": {},
   "outputs": [
    {
     "name": "stderr",
     "output_type": "stream",
     "text": [
      "[Parallel(n_jobs=4)]: Using backend ThreadingBackend with 4 concurrent workers.\n",
      "[Parallel(n_jobs=4)]: Done  42 tasks      | elapsed:    0.1s\n",
      "[Parallel(n_jobs=4)]: Done 192 tasks      | elapsed:    0.7s\n"
     ]
    },
    {
     "name": "stdout",
     "output_type": "stream",
     "text": [
      "R2:  0.85\n",
      "RMSE: 1624.07\n"
     ]
    },
    {
     "name": "stderr",
     "output_type": "stream",
     "text": [
      "[Parallel(n_jobs=4)]: Done 300 out of 300 | elapsed:    1.2s finished\n"
     ]
    }
   ],
   "source": [
    "y_pred_train = reg_rfr.predict(X_train)\n",
    "print(f\"R2: {r2_score(y_train,y_pred_train): .2f}\")\n",
    "print(f\"RMSE: {np.sqrt(mean_squared_error(y_train,y_pred_train)):.2f}\")"
   ]
  }
 ],
 "metadata": {
  "kernelspec": {
   "display_name": "Python 3",
   "language": "python",
   "name": "python3"
  },
  "language_info": {
   "codemirror_mode": {
    "name": "ipython",
    "version": 3
   },
   "file_extension": ".py",
   "mimetype": "text/x-python",
   "name": "python",
   "nbconvert_exporter": "python",
   "pygments_lexer": "ipython3",
   "version": "3.7.4"
  }
 },
 "nbformat": 4,
 "nbformat_minor": 2
}
